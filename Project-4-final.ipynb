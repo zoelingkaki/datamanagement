{
 "cells": [
  {
   "cell_type": "markdown",
   "metadata": {},
   "source": [
    "# Project 04 "
   ]
  },
  {
   "cell_type": "markdown",
   "metadata": {},
   "source": [
    "The dataset we chose for this project is 'Spending and Revenue' for the city of San Francisco.\n",
    "The San Francisco Controller's Office maintains a database of spending and revenue data sourced from it's citywide financial system. This data can be accessed from https://data.sfgov.org/City-Management-and-Ethics/Spending-and-Revenue/bpnb-jwfb. \n",
    "\n",
    "We found this data interesting because it had great amount of transactions with multiple dimensions. Plus, new data is added on a weekly basis, and is available from fiscal year 2000 forward. Another advantage of this dataset was that it is clean and tidy. All columns are well-defined and null values are not common, which will aid us in our analysis. A look into the Spending and Revenue of government departments could help both the public and the government itself, get insights into how funds are being utilised and generated. This would lead to greater government accountability to the public and the insights required for self-appraisal for the government. \n",
    "\n",
    "This notebook is structured as follows:\n",
    "\n",
    "Part I : \n",
    "* Initial exploration of the dataset \n",
    "* Discussion of questions and challenges\n",
    "\n",
    "Part II :\n",
    "* Data Wrangling : Creation of facts and dimensions\n",
    "\n",
    "Part III:\n",
    "* Analysis of Data and subsequent findings\n",
    "\n",
    "(Bonus) Part IV :\n",
    "* Comparison of Spending and Revenue with Budget data"
   ]
  },
  {
   "cell_type": "markdown",
   "metadata": {},
   "source": [
    "## Part I"
   ]
  },
  {
   "cell_type": "markdown",
   "metadata": {},
   "source": [
    "First, we download the data from our s3 bucket."
   ]
  },
  {
   "cell_type": "code",
   "execution_count": 3,
   "metadata": {},
   "outputs": [
    {
     "name": "stdout",
     "output_type": "stream",
     "text": [
      "--2018-12-10 15:23:33--  https://s3.amazonaws.com/datamanagementcourse/_Known_Issue__Spending_and_Revenue.csv\n",
      "Resolving s3.amazonaws.com (s3.amazonaws.com)... 52.216.177.13\n",
      "Connecting to s3.amazonaws.com (s3.amazonaws.com)|52.216.177.13|:443... connected.\n",
      "HTTP request sent, awaiting response... 200 OK\n",
      "Length: 144128388 (137M) [text/csv]\n",
      "Saving to: ‘_Known_Issue__Spending_and_Revenue.csv’\n",
      "\n",
      "_Known_Issue__Spend 100%[===================>] 137.45M  47.6MB/s    in 2.9s    \n",
      "\n",
      "2018-12-10 15:23:36 (47.6 MB/s) - ‘_Known_Issue__Spending_and_Revenue.csv’ saved [144128388/144128388]\n",
      "\n"
     ]
    }
   ],
   "source": [
    "!wget https://s3.amazonaws.com/datamanagementcourse/_Known_Issue__Spending_and_Revenue.csv"
   ]
  },
  {
   "cell_type": "markdown",
   "metadata": {},
   "source": [
    "Then we rename the file."
   ]
  },
  {
   "cell_type": "code",
   "execution_count": 4,
   "metadata": {},
   "outputs": [],
   "source": [
    "!mv '_Known_Issue__Spending_and_Revenue.csv' 'spending.csv'"
   ]
  },
  {
   "cell_type": "markdown",
   "metadata": {},
   "source": [
    "We count the amount of rows in the csv file "
   ]
  },
  {
   "cell_type": "code",
   "execution_count": 5,
   "metadata": {},
   "outputs": [
    {
     "name": "stdout",
     "output_type": "stream",
     "text": [
      "564519 spending.csv\n"
     ]
    }
   ],
   "source": [
    "!wc -l spending.csv"
   ]
  },
  {
   "cell_type": "markdown",
   "metadata": {},
   "source": [
    "We check the column headers"
   ]
  },
  {
   "cell_type": "code",
   "execution_count": 6,
   "metadata": {},
   "outputs": [
    {
     "name": "stdout",
     "output_type": "stream",
     "text": [
      "  1: ﻿Fiscal Year\n",
      "  2: Revenue or Spending\n",
      "  3: Related Gov’t Units\n",
      "  4: Organization Group Code\n",
      "  5: Organization Group\n",
      "  6: Department Code\n",
      "  7: Department\n",
      "  8: Program Code\n",
      "  9: Program\n",
      " 10: Character Code\n",
      " 11: Character\n",
      " 12: Object Code\n",
      " 13: Object\n",
      " 14: Sub-object Code\n",
      " 15: Sub-object\n",
      " 16: Fund Type Code\n",
      " 17: Fund Type\n",
      " 18: Fund Code\n",
      " 19: Fund\n",
      " 20: Fund Category Code\n",
      " 21: Fund Category\n",
      " 22: Amount\n"
     ]
    }
   ],
   "source": [
    "!csvcut -n spending.csv"
   ]
  },
  {
   "cell_type": "markdown",
   "metadata": {},
   "source": [
    "Have a glance at the data, a few columns at a time"
   ]
  },
  {
   "cell_type": "code",
   "execution_count": 7,
   "metadata": {},
   "outputs": [
    {
     "name": "stdout",
     "output_type": "stream",
     "text": [
      "| ﻿Fiscal Year | Revenue or Spending | Related Gov’t Units | Organization Group Code | Organization Group | Department Code |\n",
      "| ------------ | ------------------- | ------------------- | ----------------------- | ------------------ | --------------- |\n",
      "|        1,999 | Revenue             |               False |                    True | Public Protection  | ADM             |\n",
      "|        1,999 | Revenue             |               False |                    True | Public Protection  | ADM             |\n",
      "|        1,999 | Revenue             |               False |                    True | Public Protection  | ADM             |\n",
      "|        1,999 | Revenue             |               False |                    True | Public Protection  | ADM             |\n",
      "|        1,999 | Revenue             |               False |                    True | Public Protection  | ADM             |\n",
      "|        1,999 | Revenue             |               False |                    True | Public Protection  | ADM             |\n",
      "|        1,999 | Revenue             |               False |                    True | Public Protection  | ADM             |\n",
      "|        1,999 | Revenue             |               False |                    True | Public Protection  | ADM             |\n",
      "|        1,999 | Revenue             |               False |                    True | Public Protection  | ADM             |\n"
     ]
    }
   ],
   "source": [
    "!head spending.csv| csvcut -c1-6 | csvlook"
   ]
  },
  {
   "cell_type": "code",
   "execution_count": 8,
   "metadata": {},
   "outputs": [
    {
     "name": "stdout",
     "output_type": "stream",
     "text": [
      "| Department                     | Program Code | Program                             | Character Code | Character                      |\n",
      "| ------------------------------ | ------------ | ----------------------------------- | -------------- | ------------------------------ |\n",
      "| ADM Gen Svcs Agency-City Admin | ASG          | Medical Examiner                    |            445 | Intergovernmental Rev-State    |\n",
      "| ADM Gen Svcs Agency-City Admin | ASG          | Medical Examiner                    |            460 | Charges For Services           |\n",
      "| ADM Gen Svcs Agency-City Admin | ASM          | Medical Examiner - Medical Services |            445 | Intergovernmental Rev-State    |\n",
      "| ADM Gen Svcs Agency-City Admin | ASM          | Medical Examiner - Medical Services |            475 | Other Revenues                 |\n",
      "| ADM Gen Svcs Agency-City Admin | AUA          | Animal Welfare                      |            420 | Licenses; Permits & Franchises |\n",
      "| ADM Gen Svcs Agency-City Admin | AUA          | Animal Welfare                      |            460 | Charges For Services           |\n",
      "| ADM Gen Svcs Agency-City Admin | AUA          | Animal Welfare                      |            460 | Charges For Services           |\n",
      "| ADM Gen Svcs Agency-City Admin | AUA          | Animal Welfare                      |            460 | Charges For Services           |\n",
      "| ADM Gen Svcs Agency-City Admin | AUA          | Animal Welfare                      |            460 | Charges For Services           |\n"
     ]
    }
   ],
   "source": [
    "!head spending.csv| csvcut -c7-11 | csvlook"
   ]
  },
  {
   "cell_type": "code",
   "execution_count": 9,
   "metadata": {},
   "outputs": [
    {
     "name": "stdout",
     "output_type": "stream",
     "text": [
      "| Object Code | Object                        | Sub-object Code | Sub-object                   | Fund Type Code | Fund Type              | Fund Code |\n",
      "| ----------- | ----------------------------- | --------------- | ---------------------------- | -------------- | ---------------------- | --------- |\n",
      "|         448 | State - Other                 |         448,923 | Peace Officer Training       | 1G             | General Fund           | 1GAGF     |\n",
      "|         460 | Public Safety Service Charges |         460,690 | Medical Examiner Fees        | 1G             | General Fund           | 1GAGF     |\n",
      "|         448 | State - Other                 |         448,929 | State Mandated Cost - SB 90  | 1G             | General Fund           | 1GAGF     |\n",
      "|         479 | Other Non-Operating Revenues  |         479,999 | Other Non-Operating Revenue  | 1G             | General Fund           | 1GAGF     |\n",
      "|         420 | Other Licenses & Permits      |         420,911 | Dog License                  | 1G             | General Fund           | 1GAGF     |\n",
      "|         460 | Humane Services               |         460,501 | Public Pound Fee             | 1G             | General Fund           | 1GAGF     |\n",
      "|         460 | Humane Services               |         460,502 | Public Pound Sale Of Animals | 1G             | General Fund           | 1GAGF     |\n",
      "|         460 | Humane Services               |         460,503 | Public Donation              | 7E             | Expendable Trust Funds | 7EGIF     |\n",
      "|         460 | Humane Services               |         460,505 | Cat Registration             | 1G             | General Fund           | 1GAGF     |\n"
     ]
    }
   ],
   "source": [
    "!head spending.csv| csvcut -c12-18 | csvlook"
   ]
  },
  {
   "cell_type": "code",
   "execution_count": 10,
   "metadata": {},
   "outputs": [
    {
     "name": "stdout",
     "output_type": "stream",
     "text": [
      "| Fund         | Fund Category Code | Fund Category       |     Amount |\n",
      "| ------------ | ------------------ | ------------------- | ---------- |\n",
      "| General Fund |                  3 | Continuing Projects |   5,182.06 |\n",
      "| General Fund |                  1 | Operating           | 181,015.22 |\n",
      "| General Fund |                  1 | Operating           |  12,915.00 |\n",
      "| General Fund |                  1 | Operating           |  12,243.69 |\n",
      "| General Fund |                  1 | Operating           | 102,959.89 |\n",
      "| General Fund |                  1 | Operating           |  58,948.98 |\n",
      "| General Fund |                  1 | Operating           |  12,028.00 |\n",
      "| Gift Fund    |                  4 | Grants              |  45,554.99 |\n",
      "| General Fund |                  1 | Operating           |   5,030.00 |\n"
     ]
    }
   ],
   "source": [
    "!head spending.csv| csvcut -c19-22 | csvlook"
   ]
  },
  {
   "cell_type": "markdown",
   "metadata": {},
   "source": [
    "Based on this view adn the dataset dictionary provided by the data source, we describe each of the columns in our dataset"
   ]
  },
  {
   "cell_type": "markdown",
   "metadata": {},
   "source": [
    " __General__\n",
    " 1. Fiscal Year: An accounting period of 12 months which begins on July 1 and ends on June 30 the following year. \n",
    " 2. Revenue or Spending: whether the record is Revenue or Spending\n",
    " 3. Related Gov’t Units: These are fiduciary funds and component units different in nature from the other funds and in City government. \n",
    " 22. Amount: The amount earned (Revenue) or spent (Spending) by the City and County of San Francisco.\n",
    "  \n",
    "__Related to  Organization__ \n",
    "  4. Organization Group Code: Code to uniquely identify an Org Group, which is a group of Departments. \n",
    "  5. Organization Group: Name of the Org Group\n",
    "  6. Department Code: Code to uniquely identify a Department, the primary organizational unit used by the City.\n",
    "  7. Department: Name of the Department\n",
    "  8. Program Code: Code to uniquely identify a program, which identifies the services a department provides. \n",
    "  9. Program: Name of the program\n",
    "  \n",
    "__Related to Type of Record__ \n",
    " 10. Character Code: In the type  hierarchy, Character is the highest level. For example, salaries, benefits, contractual services are different characters\n",
    " 11. Character: Name of the character\n",
    " 12. Object Code: In the type hierarchy, Object is the middle level. For example, within the Salaries Character, Objects are \n",
    "Permanent Salaries, Temporary Salaries, and Overtime pay. \n",
    " 13. Object: Name of the object\n",
    " 14. Sub-object Code: In the type hierarchy, Sub-object is the lowest level of detail. For instance, within the Overtime Object, Sub-object segregates overtime for nurses from overtime for police officers \n",
    " 15. Sub-object : Name of the Sub-object\n",
    " \n",
    "__Related to Type of Fund__\n",
    " 16. Fund Type Code: In the Fund hierarchy, Fund Type is the highest level, and is according to governmental accounting standards.\n",
    " 17. Fund Type: Name of the Fund Type\n",
    " 18. Fund Code: In the Fund hierarchy, Fund is the middle level. For example, within the Special Revenue Fund Type, there is Children’s Fund and the Open Space & Park Fund. \n",
    " 19. Fund: Name of the Fund\n",
    " 20. Fund Category Code: In the Fund hierarchy, Fund Category is the lowest level. Within\n",
    "Fund, Fund Categories group activity by their characteristics. eg. Operating, Annual Projects, Continuing Projects, Grants\n",
    " 21. Fund Category: Name of the Fund Category"
   ]
  },
  {
   "cell_type": "markdown",
   "metadata": {},
   "source": [
    "Since the data is too large for csvstat to work with, we use xsv to check summary statistics of each column."
   ]
  },
  {
   "cell_type": "code",
   "execution_count": 11,
   "metadata": {},
   "outputs": [
    {
     "name": "stdout",
     "output_type": "stream",
     "text": [
      "field                    type     sum                 min                             max                                  min_length  max_length  mean                stddev\n",
      "Fiscal Year              Integer  17991               1999                            1999                                 4           4           1999                0\n",
      "Revenue or Spending      Unicode                      Revenue                         Revenue                              7           7                               \n",
      "Related Gov’t Units      Unicode                      No                              No                                   2           2                               \n",
      "Organization Group Code  Integer  9                   1                               1                                    1           1           1                   0\n",
      "Organization Group       Unicode                      Public Protection               Public Protection                    17          17                              \n",
      "Department Code          Unicode                      ADM                             ADM                                  3           3                               \n",
      "Department               Unicode                      ADM Gen Svcs Agency-City Admin  ADM Gen Svcs Agency-City Admin       30          30                              \n",
      "Program Code             Unicode                      ASG                             AUA                                  3           3                               \n",
      "Program                  Unicode                      Animal Welfare                  Medical Examiner - Medical Services  14          35                              \n",
      "Character Code           Integer  4085                420                             475                                  3           3           453.8888888888889   14.6776053484699\n",
      "Character                Unicode                      Charges For Services            Other Revenues                       14          30                              \n",
      "Object Code              Integer  4095                420                             479                                  3           3           455                 14.99629583893599\n",
      "Object                   Unicode                      Humane Services                 State - Other                        13          29                              \n",
      "Sub-object Code          Integer  4101463             420911                          479999                               6           6           455718.1111111111   14943.050703286388\n",
      "Sub-object               Unicode                      Cat Registration                State Mandated Cost - SB 90          11          28                              \n",
      "Fund Type Code           Unicode                      1G                              7E                                   2           2                               \n",
      "Fund Type                Unicode                      Expendable Trust Funds          General Fund                         12          22                              \n",
      "Fund Code                Unicode                      1GAGF                           7EGIF                                5           5                               \n",
      "Fund                     Unicode                      General Fund                    Gift Fund                            9           12                              \n",
      "Fund Category Code       Integer  14                  1                               4                                    1           1           1.5555555555555556  1.0657403385139377\n",
      "Fund Category            Unicode                      Continuing Projects             Operating                            6           19                              \n",
      "Amount                   Float    435877.82999999996  5030                            181015.22                            7           9           48430.869999999995  56096.225122005606\n"
     ]
    }
   ],
   "source": [
    "!head spending.csv  | xsv stats | xsv table"
   ]
  },
  {
   "cell_type": "markdown",
   "metadata": {},
   "source": [
    "And check if there is any nulls in each column"
   ]
  },
  {
   "cell_type": "markdown",
   "metadata": {},
   "source": [
    "Since our dataset is large, we will only check for nulls in the first 75000 rows. however this should give us a good indication."
   ]
  },
  {
   "cell_type": "code",
   "execution_count": 12,
   "metadata": {},
   "outputs": [
    {
     "name": "stdout",
     "output_type": "stream",
     "text": [
      "  1. ﻿Fiscal Year: False\n",
      "  2. Revenue or Spending: False\n",
      "  3. Related Gov’t Units: False\n",
      "  4. Organization Group Code: False\n",
      "  5. Organization Group: False\n",
      "  6. Department Code: False\n",
      "  7. Department: True\n",
      "  8. Program Code: True\n",
      "  9. Program: True\n",
      " 10. Character Code: False\n",
      " 11. Character: True\n",
      " 12. Object Code: False\n",
      " 13. Object: True\n",
      " 14. Sub-object Code: False\n",
      " 15. Sub-object: True\n",
      " 16. Fund Type Code: False\n",
      " 17. Fund Type: True\n",
      " 18. Fund Code: False\n",
      " 19. Fund: True\n",
      " 20. Fund Category Code: False\n",
      " 21. Fund Category: False\n",
      " 22. Amount: False\n"
     ]
    }
   ],
   "source": [
    "!head -75000 spending.csv | csvstat --nulls"
   ]
  },
  {
   "cell_type": "markdown",
   "metadata": {},
   "source": [
    "__Our thoughts after initial exploration:__\n",
    "\n",
    "We wanted to make sure we understood every column and that the data was ready for analysis. After a csvcut command, we can see the summary of each columns and we noted that: \n",
    "1. Some columns do have nulls. Since the number of rows with null values is not a high proportion of the total data, we chose to neglect those rows during our analysis. \n",
    "2. We found that the amount variable can range from negative to positive. The database also indicates that, while amount should be positive all the time,  there could be negative revenue entries and negative spending entries. After checking the database, we found that these are adjustments entrie aim to reflect accounting modification. So we decide to keep them and incorporate them in analysis.\n"
   ]
  },
  {
   "cell_type": "markdown",
   "metadata": {},
   "source": [
    "__Questions we want to answer using this data:__\n",
    "\n",
    "1. What was the distribution of spending across departments?\n",
    "2. What is most of the money being spent on?\n",
    "3. How has spending and revenue varied across the years?\n",
    "4. Which funds are these amounts coming from?\n",
    "5. Which organization group spend the most amount of money?"
   ]
  },
  {
   "cell_type": "markdown",
   "metadata": {},
   "source": [
    "## Part II"
   ]
  },
  {
   "cell_type": "markdown",
   "metadata": {},
   "source": [
    "Now, we load our data into a database"
   ]
  },
  {
   "cell_type": "code",
   "execution_count": 13,
   "metadata": {},
   "outputs": [
    {
     "data": {
      "text/plain": [
       "'Connected: student@project4'"
      ]
     },
     "execution_count": 13,
     "metadata": {},
     "output_type": "execute_result"
    }
   ],
   "source": [
    "%load_ext sql\n",
    "\n",
    "!dropdb --if-exists -U student project4\n",
    "\n",
    "!createdb -U student project4\n",
    "\n",
    "%sql postgresql://student@/project4"
   ]
  },
  {
   "cell_type": "markdown",
   "metadata": {},
   "source": [
    "Below is the star schema diagram that we chose to employ for this data."
   ]
  },
  {
   "cell_type": "code",
   "execution_count": 14,
   "metadata": {},
   "outputs": [
    {
     "data": {
      "image/png": "[encoded data removed]",
      "text/plain": [
       "<IPython.core.display.Image object>"
      ]
     },
     "execution_count": 14,
     "metadata": {},
     "output_type": "execute_result"
    }
   ],
   "source": [
    "from IPython.display import Image\n",
    "Image(\"https://s3.amazonaws.com/datamanagementcourse/project4schema.png\")"
   ]
  },
  {
   "cell_type": "markdown",
   "metadata": {},
   "source": [
    "We chose to have 5 dimension tables and 1 fact table since we only have one fact (amount).\n",
    "Our dimensions are as follows:\n",
    "* Entity : defines the codes and names for organisation group in the government and all the sub-categories within it.\n",
    "* Nature : describes the codes and names for the nature of the record and all sub-categories within it\n",
    "* Fund : describes the codes and names for type of fund and the sub-categores within it \n",
    "* Year : the details of the fiscal year \n",
    "* Junk_Dimension : since we couldn't find a clear category for revenue_or_Spending and related_govt, we chose to create a separate junk dimension for the two. "
   ]
  },
  {
   "cell_type": "markdown",
   "metadata": {},
   "source": [
    "First, we create the transaction fact table with all the variables in our csv file"
   ]
  },
  {
   "cell_type": "code",
   "execution_count": 15,
   "metadata": {},
   "outputs": [
    {
     "name": "stdout",
     "output_type": "stream",
     "text": [
      " * postgresql://student@/project4\n",
      "Done.\n",
      "Done.\n"
     ]
    },
    {
     "data": {
      "text/plain": [
       "[]"
      ]
     },
     "execution_count": 15,
     "metadata": {},
     "output_type": "execute_result"
    }
   ],
   "source": [
    "%%sql\n",
    "DROP TABLE IF EXISTS transaction_facts;\n",
    "\n",
    "CREATE TABLE transaction_facts (\n",
    "    fiscal_year INTEGER,\n",
    "    revenue_or_spending VARCHAR(10),\n",
    "    related_govt VARCHAR(5),\n",
    "    org_group_code VARCHAR(5),\n",
    "    org_group VARCHAR(50),\n",
    "    dept_code VARCHAR(50),\n",
    "    dept VARCHAR(50),\n",
    "    program_code VARCHAR(50),\n",
    "    program VARCHAR(50),\n",
    "    character_code VARCHAR(50),\n",
    "    character VARCHAR(50),\n",
    "    obj_code VARCHAR(50),\n",
    "    obj VARCHAR(50),\n",
    "    sub_obj_code VARCHAR(50),\n",
    "    sub_obj VARCHAR(50),\n",
    "    fund_type_code VARCHAR(50),\n",
    "    fund_type VARCHAR(50),\n",
    "    fund_code VARCHAR(50),\n",
    "    fund VARCHAR(50),\n",
    "    fund_category_code DOUBLE PRECISION,\n",
    "    fund_category VARCHAR(50),\n",
    "    amount float(2)\n",
    ")"
   ]
  },
  {
   "cell_type": "markdown",
   "metadata": {},
   "source": [
    "Make sure your current working directory is home/ubuntu."
   ]
  },
  {
   "cell_type": "code",
   "execution_count": 8,
   "metadata": {},
   "outputs": [
    {
     "data": {
      "text/plain": [
       "'/home/ubuntu'"
      ]
     },
     "execution_count": 8,
     "metadata": {},
     "output_type": "execute_result"
    }
   ],
   "source": [
    "pwd"
   ]
  },
  {
   "cell_type": "markdown",
   "metadata": {},
   "source": [
    "Now we load our csv file into the created table"
   ]
  },
  {
   "cell_type": "markdown",
   "metadata": {},
   "source": [
    "USE YOUR OWN LOCAL PATH!!!"
   ]
  },
  {
   "cell_type": "code",
   "execution_count": 16,
   "metadata": {},
   "outputs": [
    {
     "name": "stdout",
     "output_type": "stream",
     "text": [
      " * postgresql://student@/project4\n",
      "564519 rows affected.\n"
     ]
    },
    {
     "data": {
      "text/plain": [
       "[]"
      ]
     },
     "execution_count": 16,
     "metadata": {},
     "output_type": "execute_result"
    }
   ],
   "source": [
    "%%sql\n",
    "COPY transaction_facts FROM '/home/ubuntu/spending.csv'   \n",
    "with (format csv, HEADER)"
   ]
  },
  {
   "cell_type": "markdown",
   "metadata": {},
   "source": [
    "As we can see, the count of the rows uploaded into our database is the same as in the csv file "
   ]
  },
  {
   "cell_type": "markdown",
   "metadata": {},
   "source": [
    "We delete rows if they contains one or more null values. Since we know which columns have null values, we only check those."
   ]
  },
  {
   "cell_type": "code",
   "execution_count": 17,
   "metadata": {},
   "outputs": [
    {
     "name": "stdout",
     "output_type": "stream",
     "text": [
      " * postgresql://student@/project4\n",
      "45469 rows affected.\n"
     ]
    },
    {
     "data": {
      "text/plain": [
       "[]"
      ]
     },
     "execution_count": 17,
     "metadata": {},
     "output_type": "execute_result"
    }
   ],
   "source": [
    "%%sql\n",
    "DELETE FROM transaction_facts WHERE dept IS NULL\n",
    "OR program_code IS NULL\n",
    "OR program IS NULL\n",
    "OR character IS NULL\n",
    "OR obj_code IS NULL\n",
    "OR obj IS NULL\n",
    "OR sub_obj IS NULL\n",
    "OR fund_type IS NULL\n",
    "OR fund IS NULL\n",
    "OR fund_category_code IS NULL\n",
    "OR fund_category IS NULL\n",
    ";"
   ]
  },
  {
   "cell_type": "markdown",
   "metadata": {},
   "source": [
    "We see that this is just 45469 out of 564519. Deleting less than 1% of total data does not affect our analysis significantly."
   ]
  },
  {
   "cell_type": "markdown",
   "metadata": {},
   "source": [
    "Then we count how many rows we have left."
   ]
  },
  {
   "cell_type": "code",
   "execution_count": 18,
   "metadata": {},
   "outputs": [
    {
     "name": "stdout",
     "output_type": "stream",
     "text": [
      " * postgresql://student@/project4\n",
      "1 rows affected.\n"
     ]
    },
    {
     "data": {
      "text/html": [
       "<table>\n",
       "    <tr>\n",
       "        <th>count</th>\n",
       "    </tr>\n",
       "    <tr>\n",
       "        <td>519050</td>\n",
       "    </tr>\n",
       "</table>"
      ],
      "text/plain": [
       "[(519050,)]"
      ]
     },
     "execution_count": 18,
     "metadata": {},
     "output_type": "execute_result"
    }
   ],
   "source": [
    "%%sql\n",
    "SELECT COUNT(*) FROM transaction_facts;"
   ]
  },
  {
   "cell_type": "code",
   "execution_count": 19,
   "metadata": {},
   "outputs": [
    {
     "name": "stdout",
     "output_type": "stream",
     "text": [
      " * postgresql://student@/project4\n",
      "10 rows affected.\n"
     ]
    },
    {
     "data": {
      "text/html": [
       "<table>\n",
       "    <tr>\n",
       "        <th>fiscal_year</th>\n",
       "        <th>revenue_or_spending</th>\n",
       "        <th>related_govt</th>\n",
       "        <th>org_group_code</th>\n",
       "        <th>org_group</th>\n",
       "        <th>dept_code</th>\n",
       "        <th>dept</th>\n",
       "        <th>program_code</th>\n",
       "        <th>program</th>\n",
       "        <th>character_code</th>\n",
       "        <th>character</th>\n",
       "        <th>obj_code</th>\n",
       "        <th>obj</th>\n",
       "        <th>sub_obj_code</th>\n",
       "        <th>sub_obj</th>\n",
       "        <th>fund_type_code</th>\n",
       "        <th>fund_type</th>\n",
       "        <th>fund_code</th>\n",
       "        <th>fund</th>\n",
       "        <th>fund_category_code</th>\n",
       "        <th>fund_category</th>\n",
       "        <th>amount</th>\n",
       "    </tr>\n",
       "    <tr>\n",
       "        <td>1999</td>\n",
       "        <td>Revenue</td>\n",
       "        <td>No</td>\n",
       "        <td>1</td>\n",
       "        <td>Public Protection</td>\n",
       "        <td>ADM</td>\n",
       "        <td>ADM Gen Svcs Agency-City Admin</td>\n",
       "        <td>ASG</td>\n",
       "        <td>Medical Examiner</td>\n",
       "        <td>445</td>\n",
       "        <td>Intergovernmental Rev-State</td>\n",
       "        <td>448</td>\n",
       "        <td>State - Other</td>\n",
       "        <td>448923</td>\n",
       "        <td>Peace Officer Training</td>\n",
       "        <td>1G</td>\n",
       "        <td>General Fund</td>\n",
       "        <td>1GAGF</td>\n",
       "        <td>General Fund</td>\n",
       "        <td>3.0</td>\n",
       "        <td>Continuing Projects</td>\n",
       "        <td>5182.06</td>\n",
       "    </tr>\n",
       "    <tr>\n",
       "        <td>1999</td>\n",
       "        <td>Revenue</td>\n",
       "        <td>No</td>\n",
       "        <td>1</td>\n",
       "        <td>Public Protection</td>\n",
       "        <td>ADM</td>\n",
       "        <td>ADM Gen Svcs Agency-City Admin</td>\n",
       "        <td>ASG</td>\n",
       "        <td>Medical Examiner</td>\n",
       "        <td>460</td>\n",
       "        <td>Charges For Services</td>\n",
       "        <td>460</td>\n",
       "        <td>Public Safety Service Charges</td>\n",
       "        <td>460690</td>\n",
       "        <td>Medical Examiner Fees</td>\n",
       "        <td>1G</td>\n",
       "        <td>General Fund</td>\n",
       "        <td>1GAGF</td>\n",
       "        <td>General Fund</td>\n",
       "        <td>1.0</td>\n",
       "        <td>Operating</td>\n",
       "        <td>181015.0</td>\n",
       "    </tr>\n",
       "    <tr>\n",
       "        <td>1999</td>\n",
       "        <td>Revenue</td>\n",
       "        <td>No</td>\n",
       "        <td>1</td>\n",
       "        <td>Public Protection</td>\n",
       "        <td>ADM</td>\n",
       "        <td>ADM Gen Svcs Agency-City Admin</td>\n",
       "        <td>ASM</td>\n",
       "        <td>Medical Examiner - Medical Services</td>\n",
       "        <td>445</td>\n",
       "        <td>Intergovernmental Rev-State</td>\n",
       "        <td>448</td>\n",
       "        <td>State - Other</td>\n",
       "        <td>448929</td>\n",
       "        <td>State Mandated Cost - SB 90</td>\n",
       "        <td>1G</td>\n",
       "        <td>General Fund</td>\n",
       "        <td>1GAGF</td>\n",
       "        <td>General Fund</td>\n",
       "        <td>1.0</td>\n",
       "        <td>Operating</td>\n",
       "        <td>12915.0</td>\n",
       "    </tr>\n",
       "    <tr>\n",
       "        <td>1999</td>\n",
       "        <td>Revenue</td>\n",
       "        <td>No</td>\n",
       "        <td>1</td>\n",
       "        <td>Public Protection</td>\n",
       "        <td>ADM</td>\n",
       "        <td>ADM Gen Svcs Agency-City Admin</td>\n",
       "        <td>ASM</td>\n",
       "        <td>Medical Examiner - Medical Services</td>\n",
       "        <td>475</td>\n",
       "        <td>Other Revenues</td>\n",
       "        <td>479</td>\n",
       "        <td>Other Non-Operating Revenues</td>\n",
       "        <td>479999</td>\n",
       "        <td>Other Non-Operating Revenue</td>\n",
       "        <td>1G</td>\n",
       "        <td>General Fund</td>\n",
       "        <td>1GAGF</td>\n",
       "        <td>General Fund</td>\n",
       "        <td>1.0</td>\n",
       "        <td>Operating</td>\n",
       "        <td>12243.7</td>\n",
       "    </tr>\n",
       "    <tr>\n",
       "        <td>1999</td>\n",
       "        <td>Revenue</td>\n",
       "        <td>No</td>\n",
       "        <td>1</td>\n",
       "        <td>Public Protection</td>\n",
       "        <td>ADM</td>\n",
       "        <td>ADM Gen Svcs Agency-City Admin</td>\n",
       "        <td>AUA</td>\n",
       "        <td>Animal Welfare</td>\n",
       "        <td>420</td>\n",
       "        <td>Licenses; Permits &amp; Franchises</td>\n",
       "        <td>420</td>\n",
       "        <td>Other Licenses &amp; Permits</td>\n",
       "        <td>420911</td>\n",
       "        <td>Dog License</td>\n",
       "        <td>1G</td>\n",
       "        <td>General Fund</td>\n",
       "        <td>1GAGF</td>\n",
       "        <td>General Fund</td>\n",
       "        <td>1.0</td>\n",
       "        <td>Operating</td>\n",
       "        <td>102960.0</td>\n",
       "    </tr>\n",
       "    <tr>\n",
       "        <td>1999</td>\n",
       "        <td>Revenue</td>\n",
       "        <td>No</td>\n",
       "        <td>1</td>\n",
       "        <td>Public Protection</td>\n",
       "        <td>ADM</td>\n",
       "        <td>ADM Gen Svcs Agency-City Admin</td>\n",
       "        <td>AUA</td>\n",
       "        <td>Animal Welfare</td>\n",
       "        <td>460</td>\n",
       "        <td>Charges For Services</td>\n",
       "        <td>460</td>\n",
       "        <td>Humane Services</td>\n",
       "        <td>460501</td>\n",
       "        <td>Public Pound Fee</td>\n",
       "        <td>1G</td>\n",
       "        <td>General Fund</td>\n",
       "        <td>1GAGF</td>\n",
       "        <td>General Fund</td>\n",
       "        <td>1.0</td>\n",
       "        <td>Operating</td>\n",
       "        <td>58949.0</td>\n",
       "    </tr>\n",
       "    <tr>\n",
       "        <td>1999</td>\n",
       "        <td>Revenue</td>\n",
       "        <td>No</td>\n",
       "        <td>1</td>\n",
       "        <td>Public Protection</td>\n",
       "        <td>ADM</td>\n",
       "        <td>ADM Gen Svcs Agency-City Admin</td>\n",
       "        <td>AUA</td>\n",
       "        <td>Animal Welfare</td>\n",
       "        <td>460</td>\n",
       "        <td>Charges For Services</td>\n",
       "        <td>460</td>\n",
       "        <td>Humane Services</td>\n",
       "        <td>460502</td>\n",
       "        <td>Public Pound Sale Of Animals</td>\n",
       "        <td>1G</td>\n",
       "        <td>General Fund</td>\n",
       "        <td>1GAGF</td>\n",
       "        <td>General Fund</td>\n",
       "        <td>1.0</td>\n",
       "        <td>Operating</td>\n",
       "        <td>12028.0</td>\n",
       "    </tr>\n",
       "    <tr>\n",
       "        <td>1999</td>\n",
       "        <td>Revenue</td>\n",
       "        <td>No</td>\n",
       "        <td>1</td>\n",
       "        <td>Public Protection</td>\n",
       "        <td>ADM</td>\n",
       "        <td>ADM Gen Svcs Agency-City Admin</td>\n",
       "        <td>AUA</td>\n",
       "        <td>Animal Welfare</td>\n",
       "        <td>460</td>\n",
       "        <td>Charges For Services</td>\n",
       "        <td>460</td>\n",
       "        <td>Humane Services</td>\n",
       "        <td>460503</td>\n",
       "        <td>Public Donation</td>\n",
       "        <td>7E</td>\n",
       "        <td>Expendable Trust Funds</td>\n",
       "        <td>7EGIF</td>\n",
       "        <td>Gift Fund</td>\n",
       "        <td>4.0</td>\n",
       "        <td>Grants</td>\n",
       "        <td>45555.0</td>\n",
       "    </tr>\n",
       "    <tr>\n",
       "        <td>1999</td>\n",
       "        <td>Revenue</td>\n",
       "        <td>No</td>\n",
       "        <td>1</td>\n",
       "        <td>Public Protection</td>\n",
       "        <td>ADM</td>\n",
       "        <td>ADM Gen Svcs Agency-City Admin</td>\n",
       "        <td>AUA</td>\n",
       "        <td>Animal Welfare</td>\n",
       "        <td>460</td>\n",
       "        <td>Charges For Services</td>\n",
       "        <td>460</td>\n",
       "        <td>Humane Services</td>\n",
       "        <td>460505</td>\n",
       "        <td>Cat Registration</td>\n",
       "        <td>1G</td>\n",
       "        <td>General Fund</td>\n",
       "        <td>1GAGF</td>\n",
       "        <td>General Fund</td>\n",
       "        <td>1.0</td>\n",
       "        <td>Operating</td>\n",
       "        <td>5030.0</td>\n",
       "    </tr>\n",
       "    <tr>\n",
       "        <td>1999</td>\n",
       "        <td>Revenue</td>\n",
       "        <td>No</td>\n",
       "        <td>1</td>\n",
       "        <td>Public Protection</td>\n",
       "        <td>ADM</td>\n",
       "        <td>ADM Gen Svcs Agency-City Admin</td>\n",
       "        <td>AUA</td>\n",
       "        <td>Animal Welfare</td>\n",
       "        <td>460</td>\n",
       "        <td>Charges For Services</td>\n",
       "        <td>460</td>\n",
       "        <td>Humane Services</td>\n",
       "        <td>60504</td>\n",
       "        <td>Spay/Neuter Deposit</td>\n",
       "        <td>1G</td>\n",
       "        <td>General Fund</td>\n",
       "        <td>1GAGF</td>\n",
       "        <td>General Fund</td>\n",
       "        <td>1.0</td>\n",
       "        <td>Operating</td>\n",
       "        <td>7485.0</td>\n",
       "    </tr>\n",
       "</table>"
      ],
      "text/plain": [
       "[(1999, 'Revenue', 'No', '1', 'Public Protection', 'ADM', 'ADM Gen Svcs Agency-City Admin', 'ASG', 'Medical Examiner', '445', 'Intergovernmental Rev-State', '448', 'State - Other', '448923', 'Peace Officer Training', '1G', 'General Fund', '1GAGF', 'General Fund', 3.0, 'Continuing Projects', 5182.06),\n",
       " (1999, 'Revenue', 'No', '1', 'Public Protection', 'ADM', 'ADM Gen Svcs Agency-City Admin', 'ASG', 'Medical Examiner', '460', 'Charges For Services', '460', 'Public Safety Service Charges', '460690', 'Medical Examiner Fees', '1G', 'General Fund', '1GAGF', 'General Fund', 1.0, 'Operating', 181015.0),\n",
       " (1999, 'Revenue', 'No', '1', 'Public Protection', 'ADM', 'ADM Gen Svcs Agency-City Admin', 'ASM', 'Medical Examiner - Medical Services', '445', 'Intergovernmental Rev-State', '448', 'State - Other', '448929', 'State Mandated Cost - SB 90', '1G', 'General Fund', '1GAGF', 'General Fund', 1.0, 'Operating', 12915.0),\n",
       " (1999, 'Revenue', 'No', '1', 'Public Protection', 'ADM', 'ADM Gen Svcs Agency-City Admin', 'ASM', 'Medical Examiner - Medical Services', '475', 'Other Revenues', '479', 'Other Non-Operating Revenues', '479999', 'Other Non-Operating Revenue', '1G', 'General Fund', '1GAGF', 'General Fund', 1.0, 'Operating', 12243.7),\n",
       " (1999, 'Revenue', 'No', '1', 'Public Protection', 'ADM', 'ADM Gen Svcs Agency-City Admin', 'AUA', 'Animal Welfare', '420', 'Licenses; Permits & Franchises', '420', 'Other Licenses & Permits', '420911', 'Dog License', '1G', 'General Fund', '1GAGF', 'General Fund', 1.0, 'Operating', 102960.0),\n",
       " (1999, 'Revenue', 'No', '1', 'Public Protection', 'ADM', 'ADM Gen Svcs Agency-City Admin', 'AUA', 'Animal Welfare', '460', 'Charges For Services', '460', 'Humane Services', '460501', 'Public Pound Fee', '1G', 'General Fund', '1GAGF', 'General Fund', 1.0, 'Operating', 58949.0),\n",
       " (1999, 'Revenue', 'No', '1', 'Public Protection', 'ADM', 'ADM Gen Svcs Agency-City Admin', 'AUA', 'Animal Welfare', '460', 'Charges For Services', '460', 'Humane Services', '460502', 'Public Pound Sale Of Animals', '1G', 'General Fund', '1GAGF', 'General Fund', 1.0, 'Operating', 12028.0),\n",
       " (1999, 'Revenue', 'No', '1', 'Public Protection', 'ADM', 'ADM Gen Svcs Agency-City Admin', 'AUA', 'Animal Welfare', '460', 'Charges For Services', '460', 'Humane Services', '460503', 'Public Donation', '7E', 'Expendable Trust Funds', '7EGIF', 'Gift Fund', 4.0, 'Grants', 45555.0),\n",
       " (1999, 'Revenue', 'No', '1', 'Public Protection', 'ADM', 'ADM Gen Svcs Agency-City Admin', 'AUA', 'Animal Welfare', '460', 'Charges For Services', '460', 'Humane Services', '460505', 'Cat Registration', '1G', 'General Fund', '1GAGF', 'General Fund', 1.0, 'Operating', 5030.0),\n",
       " (1999, 'Revenue', 'No', '1', 'Public Protection', 'ADM', 'ADM Gen Svcs Agency-City Admin', 'AUA', 'Animal Welfare', '460', 'Charges For Services', '460', 'Humane Services', '60504', 'Spay/Neuter Deposit', '1G', 'General Fund', '1GAGF', 'General Fund', 1.0, 'Operating', 7485.0)]"
      ]
     },
     "execution_count": 19,
     "metadata": {},
     "output_type": "execute_result"
    }
   ],
   "source": [
    "%%sql\n",
    "SELECT * FROM transaction_facts LIMIT 10;"
   ]
  },
  {
   "cell_type": "markdown",
   "metadata": {},
   "source": [
    "__Creating the junk dimension__"
   ]
  },
  {
   "cell_type": "markdown",
   "metadata": {},
   "source": [
    "Now, we create the table for the junk dimension"
   ]
  },
  {
   "cell_type": "code",
   "execution_count": 20,
   "metadata": {},
   "outputs": [
    {
     "name": "stdout",
     "output_type": "stream",
     "text": [
      " * postgresql://student@/project4\n",
      "Done.\n",
      "Done.\n"
     ]
    },
    {
     "data": {
      "text/plain": [
       "[]"
      ]
     },
     "execution_count": 20,
     "metadata": {},
     "output_type": "execute_result"
    }
   ],
   "source": [
    "%%sql\n",
    "DROP TABLE IF EXISTS junk_dimension CASCADE;\n",
    "\n",
    "CREATE TABLE junk_dimension (\n",
    "    junk_dimension_key SERIAL PRIMARY KEY,\n",
    "    revenue_or_spending VARCHAR(10),\n",
    "    related_govt VARCHAR(5)\n",
    ");"
   ]
  },
  {
   "cell_type": "markdown",
   "metadata": {},
   "source": [
    "And insert distinct combination of two columns to this dimension."
   ]
  },
  {
   "cell_type": "code",
   "execution_count": 21,
   "metadata": {},
   "outputs": [
    {
     "name": "stdout",
     "output_type": "stream",
     "text": [
      " * postgresql://student@/project4\n",
      "4 rows affected.\n"
     ]
    },
    {
     "data": {
      "text/plain": [
       "[]"
      ]
     },
     "execution_count": 21,
     "metadata": {},
     "output_type": "execute_result"
    }
   ],
   "source": [
    "%%sql\n",
    "INSERT INTO junk_dimension (revenue_or_spending,related_govt)\n",
    "SELECT DISTINCT revenue_or_spending, related_govt\n",
    "FROM transaction_facts\n",
    ";"
   ]
  },
  {
   "cell_type": "markdown",
   "metadata": {},
   "source": [
    "Check how many different types of junk_dimension_key there are."
   ]
  },
  {
   "cell_type": "code",
   "execution_count": 22,
   "metadata": {},
   "outputs": [
    {
     "name": "stdout",
     "output_type": "stream",
     "text": [
      " * postgresql://student@/project4\n",
      "4 rows affected.\n"
     ]
    },
    {
     "data": {
      "text/html": [
       "<table>\n",
       "    <tr>\n",
       "        <th>junk_dimension_key</th>\n",
       "        <th>revenue_or_spending</th>\n",
       "        <th>related_govt</th>\n",
       "    </tr>\n",
       "    <tr>\n",
       "        <td>1</td>\n",
       "        <td>Spending</td>\n",
       "        <td>Yes</td>\n",
       "    </tr>\n",
       "    <tr>\n",
       "        <td>2</td>\n",
       "        <td>Revenue</td>\n",
       "        <td>Yes</td>\n",
       "    </tr>\n",
       "    <tr>\n",
       "        <td>3</td>\n",
       "        <td>Revenue</td>\n",
       "        <td>No</td>\n",
       "    </tr>\n",
       "    <tr>\n",
       "        <td>4</td>\n",
       "        <td>Spending</td>\n",
       "        <td>No</td>\n",
       "    </tr>\n",
       "</table>"
      ],
      "text/plain": [
       "[(1, 'Spending', 'Yes'),\n",
       " (2, 'Revenue', 'Yes'),\n",
       " (3, 'Revenue', 'No'),\n",
       " (4, 'Spending', 'No')]"
      ]
     },
     "execution_count": 22,
     "metadata": {},
     "output_type": "execute_result"
    }
   ],
   "source": [
    "%%sql\n",
    "SELECT * FROM junk_dimension LIMIT 10;"
   ]
  },
  {
   "cell_type": "markdown",
   "metadata": {},
   "source": [
    "That looks good to us. Then we add junk_dimension_key, which is the surrogate key in the table"
   ]
  },
  {
   "cell_type": "code",
   "execution_count": 23,
   "metadata": {},
   "outputs": [
    {
     "name": "stdout",
     "output_type": "stream",
     "text": [
      " * postgresql://student@/project4\n",
      "Done.\n"
     ]
    },
    {
     "data": {
      "text/plain": [
       "[]"
      ]
     },
     "execution_count": 23,
     "metadata": {},
     "output_type": "execute_result"
    }
   ],
   "source": [
    "%%sql\n",
    "ALTER TABLE transaction_facts\n",
    "ADD COLUMN junk_dimension_key INTEGER,\n",
    "ADD CONSTRAINT fk_junk_dimension_key\n",
    "    FOREIGN KEY (junk_dimension_key)\n",
    "    REFERENCES junk_dimension (junk_dimension_key);"
   ]
  },
  {
   "cell_type": "markdown",
   "metadata": {},
   "source": [
    "Update transaction_facts table. Assign a junk_dimension_key to each transaction."
   ]
  },
  {
   "cell_type": "code",
   "execution_count": 24,
   "metadata": {},
   "outputs": [
    {
     "name": "stdout",
     "output_type": "stream",
     "text": [
      " * postgresql://student@/project4\n",
      "519050 rows affected.\n"
     ]
    },
    {
     "data": {
      "text/plain": [
       "[]"
      ]
     },
     "execution_count": 24,
     "metadata": {},
     "output_type": "execute_result"
    }
   ],
   "source": [
    "%%sql\n",
    "UPDATE transaction_facts\n",
    "SET junk_dimension_key = junk_dimension.junk_dimension_key\n",
    "FROM junk_dimension\n",
    "WHERE junk_dimension.revenue_or_spending= transaction_facts.revenue_or_spending\n",
    "    AND junk_dimension.related_govt = junk_dimension.related_govt "
   ]
  },
  {
   "cell_type": "markdown",
   "metadata": {},
   "source": [
    "And examine whether each rows in transaction_facts have a junk_dimension_key now."
   ]
  },
  {
   "cell_type": "code",
   "execution_count": 25,
   "metadata": {},
   "outputs": [
    {
     "name": "stdout",
     "output_type": "stream",
     "text": [
      " * postgresql://student@/project4\n",
      "10 rows affected.\n"
     ]
    },
    {
     "data": {
      "text/html": [
       "<table>\n",
       "    <tr>\n",
       "        <th>junk_dimension_key</th>\n",
       "    </tr>\n",
       "    <tr>\n",
       "        <td>3</td>\n",
       "    </tr>\n",
       "    <tr>\n",
       "        <td>3</td>\n",
       "    </tr>\n",
       "    <tr>\n",
       "        <td>3</td>\n",
       "    </tr>\n",
       "    <tr>\n",
       "        <td>3</td>\n",
       "    </tr>\n",
       "    <tr>\n",
       "        <td>3</td>\n",
       "    </tr>\n",
       "    <tr>\n",
       "        <td>3</td>\n",
       "    </tr>\n",
       "    <tr>\n",
       "        <td>3</td>\n",
       "    </tr>\n",
       "    <tr>\n",
       "        <td>3</td>\n",
       "    </tr>\n",
       "    <tr>\n",
       "        <td>3</td>\n",
       "    </tr>\n",
       "    <tr>\n",
       "        <td>3</td>\n",
       "    </tr>\n",
       "</table>"
      ],
      "text/plain": [
       "[(3,), (3,), (3,), (3,), (3,), (3,), (3,), (3,), (3,), (3,)]"
      ]
     },
     "execution_count": 25,
     "metadata": {},
     "output_type": "execute_result"
    }
   ],
   "source": [
    "%%sql\n",
    "SELECT junk_dimension_key FROM transaction_facts LIMIT 10;"
   ]
  },
  {
   "cell_type": "markdown",
   "metadata": {},
   "source": [
    "__Creating fund dimension__"
   ]
  },
  {
   "cell_type": "markdown",
   "metadata": {},
   "source": [
    "Now, we create the fund dimension"
   ]
  },
  {
   "cell_type": "code",
   "execution_count": 26,
   "metadata": {},
   "outputs": [
    {
     "name": "stdout",
     "output_type": "stream",
     "text": [
      " * postgresql://student@/project4\n",
      "Done.\n",
      "Done.\n"
     ]
    },
    {
     "data": {
      "text/plain": [
       "[]"
      ]
     },
     "execution_count": 26,
     "metadata": {},
     "output_type": "execute_result"
    }
   ],
   "source": [
    "%%sql\n",
    "DROP TABLE if exists fund CASCADE;\n",
    "\n",
    "CREATE TABLE fund (\n",
    "    fund_key SERIAL PRIMARY KEY,\n",
    "    fund_type_code VARCHAR(5),\n",
    "    fund_type VARCHAR(50),\n",
    "    fund_code VARCHAR(6),\n",
    "    fund VARCHAR(50),\n",
    "    fund_category_code INTEGER,\n",
    "    fund_category VARCHAR(50)\n",
    ");"
   ]
  },
  {
   "cell_type": "markdown",
   "metadata": {},
   "source": [
    "Insert different combinations of fund_type_code, fund_type, fund, fund_category_code, and fund_category into the newly created fund dimension table."
   ]
  },
  {
   "cell_type": "code",
   "execution_count": 27,
   "metadata": {},
   "outputs": [
    {
     "name": "stdout",
     "output_type": "stream",
     "text": [
      " * postgresql://student@/project4\n",
      "267 rows affected.\n"
     ]
    },
    {
     "data": {
      "text/plain": [
       "[]"
      ]
     },
     "execution_count": 27,
     "metadata": {},
     "output_type": "execute_result"
    }
   ],
   "source": [
    "%%sql\n",
    "INSERT INTO fund (fund_type_code,\n",
    "    fund_type,\n",
    "    fund_code,\n",
    "    fund,\n",
    "    fund_category_code,\n",
    "    fund_category)\n",
    "SELECT DISTINCT fund_type_code,\n",
    "    fund_type,\n",
    "    fund_code,\n",
    "    fund,\n",
    "    fund_category_code,\n",
    "    fund_category\n",
    "FROM transaction_facts\n",
    ";"
   ]
  },
  {
   "cell_type": "markdown",
   "metadata": {},
   "source": [
    "Check the first 10 rows"
   ]
  },
  {
   "cell_type": "code",
   "execution_count": 28,
   "metadata": {},
   "outputs": [
    {
     "name": "stdout",
     "output_type": "stream",
     "text": [
      " * postgresql://student@/project4\n",
      "10 rows affected.\n"
     ]
    },
    {
     "data": {
      "text/html": [
       "<table>\n",
       "    <tr>\n",
       "        <th>fund_key</th>\n",
       "        <th>fund_type_code</th>\n",
       "        <th>fund_type</th>\n",
       "        <th>fund_code</th>\n",
       "        <th>fund</th>\n",
       "        <th>fund_category_code</th>\n",
       "        <th>fund_category</th>\n",
       "    </tr>\n",
       "    <tr>\n",
       "        <td>1</td>\n",
       "        <td>1G</td>\n",
       "        <td>General Fund</td>\n",
       "        <td>1GAGF</td>\n",
       "        <td>General Fund</td>\n",
       "        <td>1</td>\n",
       "        <td>Operating</td>\n",
       "    </tr>\n",
       "    <tr>\n",
       "        <td>2</td>\n",
       "        <td>1G</td>\n",
       "        <td>General Fund</td>\n",
       "        <td>1GAGF</td>\n",
       "        <td>General Fund</td>\n",
       "        <td>2</td>\n",
       "        <td>Annual Projects</td>\n",
       "    </tr>\n",
       "    <tr>\n",
       "        <td>3</td>\n",
       "        <td>1G</td>\n",
       "        <td>General Fund</td>\n",
       "        <td>1GAGF</td>\n",
       "        <td>General Fund</td>\n",
       "        <td>3</td>\n",
       "        <td>Continuing Projects</td>\n",
       "    </tr>\n",
       "    <tr>\n",
       "        <td>4</td>\n",
       "        <td>1G</td>\n",
       "        <td>General Fund</td>\n",
       "        <td>1GAGF</td>\n",
       "        <td>General Fund</td>\n",
       "        <td>4</td>\n",
       "        <td>Grants</td>\n",
       "    </tr>\n",
       "    <tr>\n",
       "        <td>5</td>\n",
       "        <td>1G</td>\n",
       "        <td>General Fund</td>\n",
       "        <td>1GAGF</td>\n",
       "        <td>General Fund</td>\n",
       "        <td>5</td>\n",
       "        <td>Work Orders/Overhead</td>\n",
       "    </tr>\n",
       "    <tr>\n",
       "        <td>6</td>\n",
       "        <td>1G</td>\n",
       "        <td>General Fund</td>\n",
       "        <td>1GBSI</td>\n",
       "        <td>Budget Savings Incentive</td>\n",
       "        <td>3</td>\n",
       "        <td>Continuing Projects</td>\n",
       "    </tr>\n",
       "    <tr>\n",
       "        <td>7</td>\n",
       "        <td>1G</td>\n",
       "        <td>General Fund</td>\n",
       "        <td>1GLTD</td>\n",
       "        <td>Long Term Debt</td>\n",
       "        <td>3</td>\n",
       "        <td>Continuing Projects</td>\n",
       "    </tr>\n",
       "    <tr>\n",
       "        <td>8</td>\n",
       "        <td>1G</td>\n",
       "        <td>General Fund</td>\n",
       "        <td>1GOHF</td>\n",
       "        <td>Overhead Fund</td>\n",
       "        <td>5</td>\n",
       "        <td>Work Orders/Overhead</td>\n",
       "    </tr>\n",
       "    <tr>\n",
       "        <td>9</td>\n",
       "        <td>1G</td>\n",
       "        <td>General Fund</td>\n",
       "        <td>1GS&amp;A</td>\n",
       "        <td>Subventions &amp; Other Allocations Fund</td>\n",
       "        <td>1</td>\n",
       "        <td>Operating</td>\n",
       "    </tr>\n",
       "    <tr>\n",
       "        <td>10</td>\n",
       "        <td>1G</td>\n",
       "        <td>General Fund</td>\n",
       "        <td>1GS&amp;A</td>\n",
       "        <td>Subventions &amp; Other Allocations Fund</td>\n",
       "        <td>4</td>\n",
       "        <td>Grants</td>\n",
       "    </tr>\n",
       "</table>"
      ],
      "text/plain": [
       "[(1, '1G', 'General Fund', '1GAGF', 'General Fund', 1, 'Operating'),\n",
       " (2, '1G', 'General Fund', '1GAGF', 'General Fund', 2, 'Annual Projects'),\n",
       " (3, '1G', 'General Fund', '1GAGF', 'General Fund', 3, 'Continuing Projects'),\n",
       " (4, '1G', 'General Fund', '1GAGF', 'General Fund', 4, 'Grants'),\n",
       " (5, '1G', 'General Fund', '1GAGF', 'General Fund', 5, 'Work Orders/Overhead'),\n",
       " (6, '1G', 'General Fund', '1GBSI', 'Budget Savings Incentive', 3, 'Continuing Projects'),\n",
       " (7, '1G', 'General Fund', '1GLTD', 'Long Term Debt', 3, 'Continuing Projects'),\n",
       " (8, '1G', 'General Fund', '1GOHF', 'Overhead Fund', 5, 'Work Orders/Overhead'),\n",
       " (9, '1G', 'General Fund', '1GS&A', 'Subventions & Other Allocations Fund', 1, 'Operating'),\n",
       " (10, '1G', 'General Fund', '1GS&A', 'Subventions & Other Allocations Fund', 4, 'Grants')]"
      ]
     },
     "execution_count": 28,
     "metadata": {},
     "output_type": "execute_result"
    }
   ],
   "source": [
    "%%sql\n",
    "SELECT * FROM fund LIMIT 10;"
   ]
  },
  {
   "cell_type": "markdown",
   "metadata": {},
   "source": [
    "Looks good. We then add the surrogate key to the table."
   ]
  },
  {
   "cell_type": "code",
   "execution_count": 29,
   "metadata": {},
   "outputs": [
    {
     "name": "stdout",
     "output_type": "stream",
     "text": [
      " * postgresql://student@/project4\n",
      "Done.\n"
     ]
    },
    {
     "data": {
      "text/plain": [
       "[]"
      ]
     },
     "execution_count": 29,
     "metadata": {},
     "output_type": "execute_result"
    }
   ],
   "source": [
    "%%sql\n",
    "ALTER TABLE transaction_facts\n",
    "ADD COLUMN fund_key INTEGER,\n",
    "ADD CONSTRAINT fk_fund_key\n",
    "    FOREIGN KEY (fund_key)\n",
    "    REFERENCES fund (fund_key);"
   ]
  },
  {
   "cell_type": "markdown",
   "metadata": {},
   "source": [
    "Update the transaction_facts table, add fund_key to every transactions."
   ]
  },
  {
   "cell_type": "code",
   "execution_count": 30,
   "metadata": {},
   "outputs": [
    {
     "name": "stdout",
     "output_type": "stream",
     "text": [
      " * postgresql://student@/project4\n",
      "519050 rows affected.\n"
     ]
    },
    {
     "data": {
      "text/plain": [
       "[]"
      ]
     },
     "execution_count": 30,
     "metadata": {},
     "output_type": "execute_result"
    }
   ],
   "source": [
    "%%sql\n",
    "UPDATE transaction_facts\n",
    "SET fund_key = fund.fund_key\n",
    "FROM fund\n",
    "WHERE transaction_facts.fund_type_code = fund.fund_type_code\n",
    "    AND transaction_facts.fund_category_code = fund.fund_category_code\n",
    "    AND transaction_facts.fund_code = fund.fund_code;"
   ]
  },
  {
   "cell_type": "markdown",
   "metadata": {},
   "source": [
    "Check the fund_key of first 10 rows"
   ]
  },
  {
   "cell_type": "code",
   "execution_count": 31,
   "metadata": {},
   "outputs": [
    {
     "name": "stdout",
     "output_type": "stream",
     "text": [
      " * postgresql://student@/project4\n",
      "10 rows affected.\n"
     ]
    },
    {
     "data": {
      "text/html": [
       "<table>\n",
       "    <tr>\n",
       "        <th>fund_key</th>\n",
       "    </tr>\n",
       "    <tr>\n",
       "        <td>135</td>\n",
       "    </tr>\n",
       "    <tr>\n",
       "        <td>1</td>\n",
       "    </tr>\n",
       "    <tr>\n",
       "        <td>1</td>\n",
       "    </tr>\n",
       "    <tr>\n",
       "        <td>1</td>\n",
       "    </tr>\n",
       "    <tr>\n",
       "        <td>50</td>\n",
       "    </tr>\n",
       "    <tr>\n",
       "        <td>222</td>\n",
       "    </tr>\n",
       "    <tr>\n",
       "        <td>73</td>\n",
       "    </tr>\n",
       "    <tr>\n",
       "        <td>43</td>\n",
       "    </tr>\n",
       "    <tr>\n",
       "        <td>1</td>\n",
       "    </tr>\n",
       "    <tr>\n",
       "        <td>104</td>\n",
       "    </tr>\n",
       "</table>"
      ],
      "text/plain": [
       "[(135,), (1,), (1,), (1,), (50,), (222,), (73,), (43,), (1,), (104,)]"
      ]
     },
     "execution_count": 31,
     "metadata": {},
     "output_type": "execute_result"
    }
   ],
   "source": [
    "%%sql\n",
    "SELECT fund_key FROM transaction_facts LIMIT 10;"
   ]
  },
  {
   "cell_type": "markdown",
   "metadata": {},
   "source": [
    "__Creating year dimension__"
   ]
  },
  {
   "cell_type": "markdown",
   "metadata": {},
   "source": [
    "Now, we create the fiscal year dimension. <br />**Since creating a surrogate key is similiar for every dimensions, we will not explain every query unless there is a need."
   ]
  },
  {
   "cell_type": "code",
   "execution_count": 32,
   "metadata": {},
   "outputs": [
    {
     "name": "stdout",
     "output_type": "stream",
     "text": [
      " * postgresql://student@/project4\n",
      "Done.\n",
      "Done.\n"
     ]
    },
    {
     "data": {
      "text/plain": [
       "[]"
      ]
     },
     "execution_count": 32,
     "metadata": {},
     "output_type": "execute_result"
    }
   ],
   "source": [
    "%%sql\n",
    "DROP TABLE IF EXISTS year CASCADE;\n",
    "\n",
    "CREATE TABLE year (\n",
    "    year_key SERIAL PRIMARY KEY,\n",
    "    fiscal_year INTEGER\n",
    ");"
   ]
  },
  {
   "cell_type": "code",
   "execution_count": 33,
   "metadata": {},
   "outputs": [
    {
     "name": "stdout",
     "output_type": "stream",
     "text": [
      " * postgresql://student@/project4\n",
      "19 rows affected.\n"
     ]
    },
    {
     "data": {
      "text/plain": [
       "[]"
      ]
     },
     "execution_count": 33,
     "metadata": {},
     "output_type": "execute_result"
    }
   ],
   "source": [
    "%%sql\n",
    "INSERT INTO year (fiscal_year)\n",
    "SELECT DISTINCT fiscal_year\n",
    "FROM transaction_facts\n",
    ";"
   ]
  },
  {
   "cell_type": "code",
   "execution_count": 34,
   "metadata": {},
   "outputs": [
    {
     "name": "stdout",
     "output_type": "stream",
     "text": [
      " * postgresql://student@/project4\n",
      "10 rows affected.\n"
     ]
    },
    {
     "data": {
      "text/html": [
       "<table>\n",
       "    <tr>\n",
       "        <th>year_key</th>\n",
       "        <th>fiscal_year</th>\n",
       "    </tr>\n",
       "    <tr>\n",
       "        <td>1</td>\n",
       "        <td>2010</td>\n",
       "    </tr>\n",
       "    <tr>\n",
       "        <td>2</td>\n",
       "        <td>2000</td>\n",
       "    </tr>\n",
       "    <tr>\n",
       "        <td>3</td>\n",
       "        <td>2006</td>\n",
       "    </tr>\n",
       "    <tr>\n",
       "        <td>4</td>\n",
       "        <td>2003</td>\n",
       "    </tr>\n",
       "    <tr>\n",
       "        <td>5</td>\n",
       "        <td>1999</td>\n",
       "    </tr>\n",
       "    <tr>\n",
       "        <td>6</td>\n",
       "        <td>2005</td>\n",
       "    </tr>\n",
       "    <tr>\n",
       "        <td>7</td>\n",
       "        <td>2013</td>\n",
       "    </tr>\n",
       "    <tr>\n",
       "        <td>8</td>\n",
       "        <td>2009</td>\n",
       "    </tr>\n",
       "    <tr>\n",
       "        <td>9</td>\n",
       "        <td>2004</td>\n",
       "    </tr>\n",
       "    <tr>\n",
       "        <td>10</td>\n",
       "        <td>2007</td>\n",
       "    </tr>\n",
       "</table>"
      ],
      "text/plain": [
       "[(1, 2010),\n",
       " (2, 2000),\n",
       " (3, 2006),\n",
       " (4, 2003),\n",
       " (5, 1999),\n",
       " (6, 2005),\n",
       " (7, 2013),\n",
       " (8, 2009),\n",
       " (9, 2004),\n",
       " (10, 2007)]"
      ]
     },
     "execution_count": 34,
     "metadata": {},
     "output_type": "execute_result"
    }
   ],
   "source": [
    "%%sql\n",
    "SELECT * FROM year LIMIT 10;"
   ]
  },
  {
   "cell_type": "code",
   "execution_count": 35,
   "metadata": {},
   "outputs": [
    {
     "name": "stdout",
     "output_type": "stream",
     "text": [
      " * postgresql://student@/project4\n",
      "Done.\n"
     ]
    },
    {
     "data": {
      "text/plain": [
       "[]"
      ]
     },
     "execution_count": 35,
     "metadata": {},
     "output_type": "execute_result"
    }
   ],
   "source": [
    "%%sql\n",
    "ALTER TABLE transaction_facts\n",
    "ADD COLUMN year_key INTEGER,\n",
    "ADD CONSTRAINT fk_year_key\n",
    "    FOREIGN KEY (year_key)\n",
    "    REFERENCES year (year_key);"
   ]
  },
  {
   "cell_type": "code",
   "execution_count": 36,
   "metadata": {},
   "outputs": [
    {
     "name": "stdout",
     "output_type": "stream",
     "text": [
      " * postgresql://student@/project4\n",
      "519050 rows affected.\n"
     ]
    },
    {
     "data": {
      "text/plain": [
       "[]"
      ]
     },
     "execution_count": 36,
     "metadata": {},
     "output_type": "execute_result"
    }
   ],
   "source": [
    "%%sql\n",
    "UPDATE transaction_facts\n",
    "SET year_key = year.year_key\n",
    "FROM year\n",
    "WHERE transaction_facts.fiscal_year = year.fiscal_year"
   ]
  },
  {
   "cell_type": "code",
   "execution_count": 37,
   "metadata": {},
   "outputs": [
    {
     "name": "stdout",
     "output_type": "stream",
     "text": [
      " * postgresql://student@/project4\n",
      "10 rows affected.\n"
     ]
    },
    {
     "data": {
      "text/html": [
       "<table>\n",
       "    <tr>\n",
       "        <th>year_key</th>\n",
       "    </tr>\n",
       "    <tr>\n",
       "        <td>5</td>\n",
       "    </tr>\n",
       "    <tr>\n",
       "        <td>5</td>\n",
       "    </tr>\n",
       "    <tr>\n",
       "        <td>6</td>\n",
       "    </tr>\n",
       "    <tr>\n",
       "        <td>5</td>\n",
       "    </tr>\n",
       "    <tr>\n",
       "        <td>5</td>\n",
       "    </tr>\n",
       "    <tr>\n",
       "        <td>5</td>\n",
       "    </tr>\n",
       "    <tr>\n",
       "        <td>5</td>\n",
       "    </tr>\n",
       "    <tr>\n",
       "        <td>5</td>\n",
       "    </tr>\n",
       "    <tr>\n",
       "        <td>5</td>\n",
       "    </tr>\n",
       "    <tr>\n",
       "        <td>5</td>\n",
       "    </tr>\n",
       "</table>"
      ],
      "text/plain": [
       "[(5,), (5,), (6,), (5,), (5,), (5,), (5,), (5,), (5,), (5,)]"
      ]
     },
     "execution_count": 37,
     "metadata": {},
     "output_type": "execute_result"
    }
   ],
   "source": [
    "%%sql\n",
    "SELECT year_key FROM transaction_facts LIMIT 10;"
   ]
  },
  {
   "cell_type": "markdown",
   "metadata": {},
   "source": [
    "__Creating the entity dimension__"
   ]
  },
  {
   "cell_type": "markdown",
   "metadata": {},
   "source": [
    "Now, we create the dimension entity"
   ]
  },
  {
   "cell_type": "code",
   "execution_count": 38,
   "metadata": {},
   "outputs": [
    {
     "name": "stdout",
     "output_type": "stream",
     "text": [
      " * postgresql://student@/project4\n",
      "Done.\n",
      "Done.\n"
     ]
    },
    {
     "data": {
      "text/plain": [
       "[]"
      ]
     },
     "execution_count": 38,
     "metadata": {},
     "output_type": "execute_result"
    }
   ],
   "source": [
    "%%sql\n",
    "DROP TABLE IF EXISTS entity CASCADE;\n",
    "\n",
    "CREATE TABLE entity (\n",
    "    entity_key SERIAL PRIMARY KEY,\n",
    "    org_group_code VARCHAR(5),\n",
    "    org_group VARCHAR(50),\n",
    "    dept_code VARCHAR(55),\n",
    "    dept VARCHAR(50),\n",
    "    program_code VARCHAR(5),\n",
    "    program VARCHAR(50)\n",
    ");"
   ]
  },
  {
   "cell_type": "code",
   "execution_count": 39,
   "metadata": {},
   "outputs": [
    {
     "name": "stdout",
     "output_type": "stream",
     "text": [
      " * postgresql://student@/project4\n",
      "1210 rows affected.\n"
     ]
    },
    {
     "data": {
      "text/plain": [
       "[]"
      ]
     },
     "execution_count": 39,
     "metadata": {},
     "output_type": "execute_result"
    }
   ],
   "source": [
    "%%sql\n",
    "INSERT INTO entity (org_group_code,\n",
    "    org_group,\n",
    "    dept_code,\n",
    "    dept,\n",
    "    program_code,\n",
    "    program)\n",
    "SELECT DISTINCT org_group_code,\n",
    "    org_group,\n",
    "    dept_code,\n",
    "    dept,\n",
    "    program_code,\n",
    "    program\n",
    "FROM transaction_facts\n",
    ";"
   ]
  },
  {
   "cell_type": "code",
   "execution_count": 40,
   "metadata": {},
   "outputs": [
    {
     "name": "stdout",
     "output_type": "stream",
     "text": [
      " * postgresql://student@/project4\n",
      "10 rows affected.\n"
     ]
    },
    {
     "data": {
      "text/html": [
       "<table>\n",
       "    <tr>\n",
       "        <th>entity_key</th>\n",
       "        <th>org_group_code</th>\n",
       "        <th>org_group</th>\n",
       "        <th>dept_code</th>\n",
       "        <th>dept</th>\n",
       "        <th>program_code</th>\n",
       "        <th>program</th>\n",
       "    </tr>\n",
       "    <tr>\n",
       "        <td>1</td>\n",
       "        <td>1</td>\n",
       "        <td>Public Protection</td>\n",
       "        <td>ADM</td>\n",
       "        <td>ADM Gen Svcs Agency-City Admin</td>\n",
       "        <td>ASG</td>\n",
       "        <td>Medical Examiner</td>\n",
       "    </tr>\n",
       "    <tr>\n",
       "        <td>2</td>\n",
       "        <td>1</td>\n",
       "        <td>Public Protection</td>\n",
       "        <td>ADM</td>\n",
       "        <td>ADM Gen Svcs Agency-City Admin</td>\n",
       "        <td>ASM</td>\n",
       "        <td>Medical Examiner - Medical Services</td>\n",
       "    </tr>\n",
       "    <tr>\n",
       "        <td>3</td>\n",
       "        <td>1</td>\n",
       "        <td>Public Protection</td>\n",
       "        <td>ADM</td>\n",
       "        <td>ADM Gen Svcs Agency-City Admin</td>\n",
       "        <td>ASN</td>\n",
       "        <td>Medical Examiner - Investigative Service</td>\n",
       "    </tr>\n",
       "    <tr>\n",
       "        <td>4</td>\n",
       "        <td>1</td>\n",
       "        <td>Public Protection</td>\n",
       "        <td>ADM</td>\n",
       "        <td>ADM Gen Svcs Agency-City Admin</td>\n",
       "        <td>AUA</td>\n",
       "        <td>Animal Welfare</td>\n",
       "    </tr>\n",
       "    <tr>\n",
       "        <td>5</td>\n",
       "        <td>1</td>\n",
       "        <td>Public Protection</td>\n",
       "        <td>ADM</td>\n",
       "        <td>ADM Gen Svcs Agency-City Admin</td>\n",
       "        <td>AXX</td>\n",
       "        <td>No Program Defined</td>\n",
       "    </tr>\n",
       "    <tr>\n",
       "        <td>6</td>\n",
       "        <td>1</td>\n",
       "        <td>Public Protection</td>\n",
       "        <td>ADM</td>\n",
       "        <td>ADM Gen Svcs Agency-City Admin</td>\n",
       "        <td>XXX</td>\n",
       "        <td>No Program Defined</td>\n",
       "    </tr>\n",
       "    <tr>\n",
       "        <td>7</td>\n",
       "        <td>1</td>\n",
       "        <td>Public Protection</td>\n",
       "        <td>ADP</td>\n",
       "        <td>ADP Adult Probation</td>\n",
       "        <td>AIE</td>\n",
       "        <td>Work Orders &amp; Grants</td>\n",
       "    </tr>\n",
       "    <tr>\n",
       "        <td>8</td>\n",
       "        <td>1</td>\n",
       "        <td>Public Protection</td>\n",
       "        <td>ADP</td>\n",
       "        <td>ADP Adult Probation</td>\n",
       "        <td>AKB</td>\n",
       "        <td>Community Services</td>\n",
       "    </tr>\n",
       "    <tr>\n",
       "        <td>9</td>\n",
       "        <td>1</td>\n",
       "        <td>Public Protection</td>\n",
       "        <td>ADP</td>\n",
       "        <td>ADP Adult Probation</td>\n",
       "        <td>AKG</td>\n",
       "        <td>Pre - Sentencing Investigation</td>\n",
       "    </tr>\n",
       "    <tr>\n",
       "        <td>10</td>\n",
       "        <td>1</td>\n",
       "        <td>Public Protection</td>\n",
       "        <td>ADP</td>\n",
       "        <td>ADP Adult Probation</td>\n",
       "        <td>AOS</td>\n",
       "        <td>One Stop Re Entry Services</td>\n",
       "    </tr>\n",
       "</table>"
      ],
      "text/plain": [
       "[(1, '1', 'Public Protection', 'ADM', 'ADM Gen Svcs Agency-City Admin', 'ASG', 'Medical Examiner'),\n",
       " (2, '1', 'Public Protection', 'ADM', 'ADM Gen Svcs Agency-City Admin', 'ASM', 'Medical Examiner - Medical Services'),\n",
       " (3, '1', 'Public Protection', 'ADM', 'ADM Gen Svcs Agency-City Admin', 'ASN', 'Medical Examiner - Investigative Service'),\n",
       " (4, '1', 'Public Protection', 'ADM', 'ADM Gen Svcs Agency-City Admin', 'AUA', 'Animal Welfare'),\n",
       " (5, '1', 'Public Protection', 'ADM', 'ADM Gen Svcs Agency-City Admin', 'AXX', 'No Program Defined'),\n",
       " (6, '1', 'Public Protection', 'ADM', 'ADM Gen Svcs Agency-City Admin', 'XXX', 'No Program Defined'),\n",
       " (7, '1', 'Public Protection', 'ADP', 'ADP Adult Probation', 'AIE', 'Work Orders & Grants'),\n",
       " (8, '1', 'Public Protection', 'ADP', 'ADP Adult Probation', 'AKB', 'Community Services'),\n",
       " (9, '1', 'Public Protection', 'ADP', 'ADP Adult Probation', 'AKG', 'Pre - Sentencing Investigation'),\n",
       " (10, '1', 'Public Protection', 'ADP', 'ADP Adult Probation', 'AOS', 'One Stop Re Entry Services')]"
      ]
     },
     "execution_count": 40,
     "metadata": {},
     "output_type": "execute_result"
    }
   ],
   "source": [
    "%%sql\n",
    "SELECT * FROM entity LIMIT 10;"
   ]
  },
  {
   "cell_type": "code",
   "execution_count": 41,
   "metadata": {},
   "outputs": [
    {
     "name": "stdout",
     "output_type": "stream",
     "text": [
      " * postgresql://student@/project4\n",
      "Done.\n"
     ]
    },
    {
     "data": {
      "text/plain": [
       "[]"
      ]
     },
     "execution_count": 41,
     "metadata": {},
     "output_type": "execute_result"
    }
   ],
   "source": [
    "%%sql\n",
    "ALTER TABLE transaction_facts\n",
    "ADD COLUMN entity_key INTEGER,\n",
    "ADD CONSTRAINT fk_entity_key\n",
    "    FOREIGN KEY (entity_key)\n",
    "    REFERENCES entity (entity_key);"
   ]
  },
  {
   "cell_type": "code",
   "execution_count": 42,
   "metadata": {},
   "outputs": [
    {
     "name": "stdout",
     "output_type": "stream",
     "text": [
      " * postgresql://student@/project4\n",
      "519050 rows affected.\n"
     ]
    },
    {
     "data": {
      "text/plain": [
       "[]"
      ]
     },
     "execution_count": 42,
     "metadata": {},
     "output_type": "execute_result"
    }
   ],
   "source": [
    "%%sql\n",
    "UPDATE transaction_facts\n",
    "SET entity_key = entity.entity_key\n",
    "FROM entity\n",
    "WHERE transaction_facts.org_group_code = entity.org_group_code\n",
    "    AND transaction_facts.dept_code = entity.dept_code\n",
    "    AND transaction_facts.program_code = entity.program_code;"
   ]
  },
  {
   "cell_type": "code",
   "execution_count": 43,
   "metadata": {},
   "outputs": [
    {
     "name": "stdout",
     "output_type": "stream",
     "text": [
      " * postgresql://student@/project4\n",
      "10 rows affected.\n"
     ]
    },
    {
     "data": {
      "text/html": [
       "<table>\n",
       "    <tr>\n",
       "        <th>entity_key</th>\n",
       "    </tr>\n",
       "    <tr>\n",
       "        <td>46</td>\n",
       "    </tr>\n",
       "    <tr>\n",
       "        <td>50</td>\n",
       "    </tr>\n",
       "    <tr>\n",
       "        <td>152</td>\n",
       "    </tr>\n",
       "    <tr>\n",
       "        <td>153</td>\n",
       "    </tr>\n",
       "    <tr>\n",
       "        <td>155</td>\n",
       "    </tr>\n",
       "    <tr>\n",
       "        <td>158</td>\n",
       "    </tr>\n",
       "    <tr>\n",
       "        <td>159</td>\n",
       "    </tr>\n",
       "    <tr>\n",
       "        <td>162</td>\n",
       "    </tr>\n",
       "    <tr>\n",
       "        <td>167</td>\n",
       "    </tr>\n",
       "    <tr>\n",
       "        <td>196</td>\n",
       "    </tr>\n",
       "</table>"
      ],
      "text/plain": [
       "[(46,), (50,), (152,), (153,), (155,), (158,), (159,), (162,), (167,), (196,)]"
      ]
     },
     "execution_count": 43,
     "metadata": {},
     "output_type": "execute_result"
    }
   ],
   "source": [
    "%%sql\n",
    "SELECT entity_key FROM transaction_facts LIMIT 10;"
   ]
  },
  {
   "cell_type": "markdown",
   "metadata": {},
   "source": [
    "__Creating the Nature dimension__"
   ]
  },
  {
   "cell_type": "markdown",
   "metadata": {},
   "source": [
    "Now, we create the dimension Nature"
   ]
  },
  {
   "cell_type": "code",
   "execution_count": 44,
   "metadata": {},
   "outputs": [
    {
     "name": "stdout",
     "output_type": "stream",
     "text": [
      " * postgresql://student@/project4\n",
      "Done.\n",
      "Done.\n"
     ]
    },
    {
     "data": {
      "text/plain": [
       "[]"
      ]
     },
     "execution_count": 44,
     "metadata": {},
     "output_type": "execute_result"
    }
   ],
   "source": [
    "%%sql\n",
    "DROP TABLE IF EXISTS nature CASCADE;\n",
    "\n",
    "CREATE TABLE nature (\n",
    "    nature_key SERIAL PRIMARY KEY,\n",
    "    character_code VARCHAR(5),\n",
    "    character VARCHAR(50),\n",
    "    obj_code VARCHAR(10),\n",
    "    obj VARCHAR(50),\n",
    "    sub_obj_code VARCHAR(10),\n",
    "    sub_obj VARCHAR(50)\n",
    ");"
   ]
  },
  {
   "cell_type": "code",
   "execution_count": 45,
   "metadata": {},
   "outputs": [
    {
     "name": "stdout",
     "output_type": "stream",
     "text": [
      " * postgresql://student@/project4\n",
      "2466 rows affected.\n"
     ]
    },
    {
     "data": {
      "text/plain": [
       "[]"
      ]
     },
     "execution_count": 45,
     "metadata": {},
     "output_type": "execute_result"
    }
   ],
   "source": [
    "%%sql\n",
    "INSERT INTO nature (\n",
    "    character_code,\n",
    "    character,\n",
    "    obj_code ,\n",
    "    obj,\n",
    "    sub_obj_code,\n",
    "    sub_obj)\n",
    "SELECT DISTINCT   character_code,\n",
    "    character,\n",
    "    obj_code ,\n",
    "    obj,\n",
    "    sub_obj_code,\n",
    "    sub_obj\n",
    "FROM transaction_facts\n",
    ";"
   ]
  },
  {
   "cell_type": "code",
   "execution_count": 46,
   "metadata": {},
   "outputs": [
    {
     "name": "stdout",
     "output_type": "stream",
     "text": [
      " * postgresql://student@/project4\n",
      "10 rows affected.\n"
     ]
    },
    {
     "data": {
      "text/html": [
       "<table>\n",
       "    <tr>\n",
       "        <th>nature_key</th>\n",
       "        <th>character_code</th>\n",
       "        <th>character</th>\n",
       "        <th>obj_code</th>\n",
       "        <th>obj</th>\n",
       "        <th>sub_obj_code</th>\n",
       "        <th>sub_obj</th>\n",
       "    </tr>\n",
       "    <tr>\n",
       "        <td>1</td>\n",
       "        <td>406</td>\n",
       "        <td>Capital Contributions-Federal</td>\n",
       "        <td>411</td>\n",
       "        <td>Capital Grants Contra-Federal</td>\n",
       "        <td>411501</td>\n",
       "        <td>Capital Contributions-Federal</td>\n",
       "    </tr>\n",
       "    <tr>\n",
       "        <td>2</td>\n",
       "        <td>406</td>\n",
       "        <td>Capital Contributions-Others</td>\n",
       "        <td>412</td>\n",
       "        <td>Capital Contributions-Others</td>\n",
       "        <td>412001</td>\n",
       "        <td>Capital Contributions-Others</td>\n",
       "    </tr>\n",
       "    <tr>\n",
       "        <td>3</td>\n",
       "        <td>410</td>\n",
       "        <td>Property Taxes</td>\n",
       "        <td>410</td>\n",
       "        <td>Other Property Taxes</td>\n",
       "        <td>10914</td>\n",
       "        <td>Supplemental ERAF Allocation</td>\n",
       "    </tr>\n",
       "    <tr>\n",
       "        <td>4</td>\n",
       "        <td>410</td>\n",
       "        <td>Property Taxes</td>\n",
       "        <td>410</td>\n",
       "        <td>Other Property Taxes</td>\n",
       "        <td>10915</td>\n",
       "        <td>Successor Agency Excess For Redistrib.</td>\n",
       "    </tr>\n",
       "    <tr>\n",
       "        <td>5</td>\n",
       "        <td>410</td>\n",
       "        <td>Property Taxes</td>\n",
       "        <td>410</td>\n",
       "        <td>Other Property Taxes</td>\n",
       "        <td>410911</td>\n",
       "        <td>Eraf Property Tax Allocation</td>\n",
       "    </tr>\n",
       "    <tr>\n",
       "        <td>6</td>\n",
       "        <td>410</td>\n",
       "        <td>Property Taxes</td>\n",
       "        <td>410</td>\n",
       "        <td>Other Property Taxes</td>\n",
       "        <td>410912</td>\n",
       "        <td>Prop Tax In-LieuOfSales&amp;UseTax</td>\n",
       "    </tr>\n",
       "    <tr>\n",
       "        <td>7</td>\n",
       "        <td>410</td>\n",
       "        <td>Property Taxes</td>\n",
       "        <td>410</td>\n",
       "        <td>Other Property Taxes</td>\n",
       "        <td>410913</td>\n",
       "        <td>Prop Tax In-LieuOfVehcleLicFee</td>\n",
       "    </tr>\n",
       "    <tr>\n",
       "        <td>8</td>\n",
       "        <td>410</td>\n",
       "        <td>Property Taxes</td>\n",
       "        <td>410</td>\n",
       "        <td>Other Property Taxes</td>\n",
       "        <td>410920</td>\n",
       "        <td>Prop Tax Ab 1290 Rda Passthrgh</td>\n",
       "    </tr>\n",
       "    <tr>\n",
       "        <td>9</td>\n",
       "        <td>410</td>\n",
       "        <td>Property Taxes</td>\n",
       "        <td>410</td>\n",
       "        <td>Other Property Taxes</td>\n",
       "        <td>410930</td>\n",
       "        <td>SB 813-5% Administrative Cost</td>\n",
       "    </tr>\n",
       "    <tr>\n",
       "        <td>10</td>\n",
       "        <td>410</td>\n",
       "        <td>Property Taxes</td>\n",
       "        <td>410</td>\n",
       "        <td>Other Property Taxes</td>\n",
       "        <td>410940</td>\n",
       "        <td>Prop Tax-Administrative Cost</td>\n",
       "    </tr>\n",
       "</table>"
      ],
      "text/plain": [
       "[(1, '406', 'Capital Contributions-Federal', '411', 'Capital Grants Contra-Federal', '411501', 'Capital Contributions-Federal'),\n",
       " (2, '406', 'Capital Contributions-Others', '412', 'Capital Contributions-Others', '412001', 'Capital Contributions-Others'),\n",
       " (3, '410', 'Property Taxes', '410', 'Other Property Taxes', '10914', 'Supplemental ERAF Allocation'),\n",
       " (4, '410', 'Property Taxes', '410', 'Other Property Taxes', '10915', 'Successor Agency Excess For Redistrib.'),\n",
       " (5, '410', 'Property Taxes', '410', 'Other Property Taxes', '410911', 'Eraf Property Tax Allocation'),\n",
       " (6, '410', 'Property Taxes', '410', 'Other Property Taxes', '410912', 'Prop Tax In-LieuOfSales&UseTax'),\n",
       " (7, '410', 'Property Taxes', '410', 'Other Property Taxes', '410913', 'Prop Tax In-LieuOfVehcleLicFee'),\n",
       " (8, '410', 'Property Taxes', '410', 'Other Property Taxes', '410920', 'Prop Tax Ab 1290 Rda Passthrgh'),\n",
       " (9, '410', 'Property Taxes', '410', 'Other Property Taxes', '410930', 'SB 813-5% Administrative Cost'),\n",
       " (10, '410', 'Property Taxes', '410', 'Other Property Taxes', '410940', 'Prop Tax-Administrative Cost')]"
      ]
     },
     "execution_count": 46,
     "metadata": {},
     "output_type": "execute_result"
    }
   ],
   "source": [
    "%%sql\n",
    "SELECT * FROM nature LIMIT 10;"
   ]
  },
  {
   "cell_type": "code",
   "execution_count": 47,
   "metadata": {},
   "outputs": [
    {
     "name": "stdout",
     "output_type": "stream",
     "text": [
      " * postgresql://student@/project4\n",
      "Done.\n"
     ]
    },
    {
     "data": {
      "text/plain": [
       "[]"
      ]
     },
     "execution_count": 47,
     "metadata": {},
     "output_type": "execute_result"
    }
   ],
   "source": [
    "%%sql\n",
    "ALTER TABLE transaction_facts\n",
    "ADD COLUMN nature_key INTEGER,\n",
    "ADD CONSTRAINT fk_nature_key\n",
    "    FOREIGN KEY (nature_key)\n",
    "    REFERENCES nature (nature_key);"
   ]
  },
  {
   "cell_type": "code",
   "execution_count": 48,
   "metadata": {},
   "outputs": [
    {
     "name": "stdout",
     "output_type": "stream",
     "text": [
      " * postgresql://student@/project4\n",
      "519050 rows affected.\n"
     ]
    },
    {
     "data": {
      "text/plain": [
       "[]"
      ]
     },
     "execution_count": 48,
     "metadata": {},
     "output_type": "execute_result"
    }
   ],
   "source": [
    "%%sql\n",
    "UPDATE transaction_facts\n",
    "SET nature_key = nature.nature_key\n",
    "FROM nature\n",
    "WHERE transaction_facts.character_code = nature.character_code\n",
    "    AND transaction_facts.obj_code = nature. obj_code\n",
    "    AND transaction_facts.sub_obj_code = nature.sub_obj_code;"
   ]
  },
  {
   "cell_type": "code",
   "execution_count": 49,
   "metadata": {},
   "outputs": [
    {
     "name": "stdout",
     "output_type": "stream",
     "text": [
      " * postgresql://student@/project4\n",
      "10 rows affected.\n"
     ]
    },
    {
     "data": {
      "text/html": [
       "<table>\n",
       "    <tr>\n",
       "        <th>nature_key</th>\n",
       "    </tr>\n",
       "    <tr>\n",
       "        <td>1693</td>\n",
       "    </tr>\n",
       "    <tr>\n",
       "        <td>1526</td>\n",
       "    </tr>\n",
       "    <tr>\n",
       "        <td>1550</td>\n",
       "    </tr>\n",
       "    <tr>\n",
       "        <td>1554</td>\n",
       "    </tr>\n",
       "    <tr>\n",
       "        <td>1819</td>\n",
       "    </tr>\n",
       "    <tr>\n",
       "        <td>1510</td>\n",
       "    </tr>\n",
       "    <tr>\n",
       "        <td>1557</td>\n",
       "    </tr>\n",
       "    <tr>\n",
       "        <td>1492</td>\n",
       "    </tr>\n",
       "    <tr>\n",
       "        <td>1550</td>\n",
       "    </tr>\n",
       "    <tr>\n",
       "        <td>1558</td>\n",
       "    </tr>\n",
       "</table>"
      ],
      "text/plain": [
       "[(1693,),\n",
       " (1526,),\n",
       " (1550,),\n",
       " (1554,),\n",
       " (1819,),\n",
       " (1510,),\n",
       " (1557,),\n",
       " (1492,),\n",
       " (1550,),\n",
       " (1558,)]"
      ]
     },
     "execution_count": 49,
     "metadata": {},
     "output_type": "execute_result"
    }
   ],
   "source": [
    "%%sql\n",
    "SELECT nature_key FROM transaction_facts LIMIT 10;"
   ]
  },
  {
   "cell_type": "markdown",
   "metadata": {},
   "source": [
    "Now that we have created our 4 dimensions, we can remove the unneccesary columns from our fact table and keep only amount and the surrogate keys of the 4 dimensions tables"
   ]
  },
  {
   "cell_type": "code",
   "execution_count": 50,
   "metadata": {},
   "outputs": [
    {
     "name": "stdout",
     "output_type": "stream",
     "text": [
      " * postgresql://student@/project4\n",
      "Done.\n"
     ]
    },
    {
     "data": {
      "text/plain": [
       "[]"
      ]
     },
     "execution_count": 50,
     "metadata": {},
     "output_type": "execute_result"
    }
   ],
   "source": [
    "%%sql\n",
    "ALTER TABLE transaction_facts\n",
    "\n",
    "DROP COLUMN fiscal_year,\n",
    "DROP COLUMN revenue_or_spending,\n",
    "DROP COLUMN related_govt,\n",
    "DROP COLUMN org_group_code,\n",
    "DROP COLUMN org_group,\n",
    "DROP COLUMN dept_code,\n",
    "DROP COLUMN dept,\n",
    "DROP COLUMN program_code,\n",
    "DROP COLUMN program,\n",
    "DROP COLUMN character_code,\n",
    "DROP COLUMN character,\n",
    "DROP COLUMN obj_code,\n",
    "DROP COLUMN obj,\n",
    "DROP COLUMN sub_obj_code,\n",
    "DROP COLUMN sub_obj,\n",
    "DROP COLUMN fund_type_code,\n",
    "DROP COLUMN fund_type,\n",
    "DROP COLUMN fund_code,\n",
    "DROP COLUMN fund,\n",
    "DROP COLUMN fund_category_code,\n",
    "DROP COLUMN fund_category;\n"
   ]
  },
  {
   "cell_type": "code",
   "execution_count": 51,
   "metadata": {},
   "outputs": [
    {
     "name": "stdout",
     "output_type": "stream",
     "text": [
      " * postgresql://student@/project4\n",
      "10 rows affected.\n"
     ]
    },
    {
     "data": {
      "text/html": [
       "<table>\n",
       "    <tr>\n",
       "        <th>amount</th>\n",
       "        <th>junk_dimension_key</th>\n",
       "        <th>fund_key</th>\n",
       "        <th>year_key</th>\n",
       "        <th>entity_key</th>\n",
       "        <th>nature_key</th>\n",
       "    </tr>\n",
       "    <tr>\n",
       "        <td>423.51</td>\n",
       "        <td>4</td>\n",
       "        <td>97</td>\n",
       "        <td>5</td>\n",
       "        <td>283</td>\n",
       "        <td>1550</td>\n",
       "    </tr>\n",
       "    <tr>\n",
       "        <td>1742260.0</td>\n",
       "        <td>4</td>\n",
       "        <td>121</td>\n",
       "        <td>5</td>\n",
       "        <td>283</td>\n",
       "        <td>1558</td>\n",
       "    </tr>\n",
       "    <tr>\n",
       "        <td>10.09</td>\n",
       "        <td>4</td>\n",
       "        <td>121</td>\n",
       "        <td>5</td>\n",
       "        <td>284</td>\n",
       "        <td>1551</td>\n",
       "    </tr>\n",
       "    <tr>\n",
       "        <td>463.67</td>\n",
       "        <td>4</td>\n",
       "        <td>20</td>\n",
       "        <td>5</td>\n",
       "        <td>312</td>\n",
       "        <td>2039</td>\n",
       "    </tr>\n",
       "    <tr>\n",
       "        <td>11754.3</td>\n",
       "        <td>4</td>\n",
       "        <td>1</td>\n",
       "        <td>5</td>\n",
       "        <td>775</td>\n",
       "        <td>1502</td>\n",
       "    </tr>\n",
       "    <tr>\n",
       "        <td>566534.0</td>\n",
       "        <td>4</td>\n",
       "        <td>5</td>\n",
       "        <td>5</td>\n",
       "        <td>324</td>\n",
       "        <td>1559</td>\n",
       "    </tr>\n",
       "    <tr>\n",
       "        <td>11237.8</td>\n",
       "        <td>4</td>\n",
       "        <td>70</td>\n",
       "        <td>5</td>\n",
       "        <td>325</td>\n",
       "        <td>1521</td>\n",
       "    </tr>\n",
       "    <tr>\n",
       "        <td>928.8</td>\n",
       "        <td>4</td>\n",
       "        <td>136</td>\n",
       "        <td>5</td>\n",
       "        <td>334</td>\n",
       "        <td>1488</td>\n",
       "    </tr>\n",
       "    <tr>\n",
       "        <td>-655111.0</td>\n",
       "        <td>4</td>\n",
       "        <td>56</td>\n",
       "        <td>5</td>\n",
       "        <td>381</td>\n",
       "        <td>2022</td>\n",
       "    </tr>\n",
       "    <tr>\n",
       "        <td>8825.12</td>\n",
       "        <td>4</td>\n",
       "        <td>1</td>\n",
       "        <td>6</td>\n",
       "        <td>93</td>\n",
       "        <td>1865</td>\n",
       "    </tr>\n",
       "</table>"
      ],
      "text/plain": [
       "[(423.51, 4, 97, 5, 283, 1550),\n",
       " (1742260.0, 4, 121, 5, 283, 1558),\n",
       " (10.09, 4, 121, 5, 284, 1551),\n",
       " (463.67, 4, 20, 5, 312, 2039),\n",
       " (11754.3, 4, 1, 5, 775, 1502),\n",
       " (566534.0, 4, 5, 5, 324, 1559),\n",
       " (11237.8, 4, 70, 5, 325, 1521),\n",
       " (928.8, 4, 136, 5, 334, 1488),\n",
       " (-655111.0, 4, 56, 5, 381, 2022),\n",
       " (8825.12, 4, 1, 6, 93, 1865)]"
      ]
     },
     "execution_count": 51,
     "metadata": {},
     "output_type": "execute_result"
    }
   ],
   "source": [
    "%%sql\n",
    "select * from transaction_facts limit 10;"
   ]
  },
  {
   "cell_type": "markdown",
   "metadata": {},
   "source": [
    "## Part III"
   ]
  },
  {
   "cell_type": "markdown",
   "metadata": {},
   "source": [
    "Based on the schema built in Part 2, we'd like to explore the dataset by looking at 3 main dimensions first over the year.\n",
    "Our concerns include:\n",
    "\n",
    "1. Overall understanding\n",
    "<br> What's the trend of the spending and revenue over the year of San Fransico?\n",
    "\n",
    "2. Entity\n",
    "<br>  What are the top organization groups have the higest spending and revenue? \n",
    "<br>  And what are their trend over the years?\n",
    "\n",
    "3. Nature\n",
    "<br>  What are the top characters have the higest spending and revenue?\n",
    "<br>  And what are their trend over the years?\n",
    "\n",
    "4. Fund\n",
    "<br>  What are the top fund types have the higest spending and revenue?\n",
    "<br>  And what are their trend over the years?"
   ]
  },
  {
   "cell_type": "markdown",
   "metadata": {},
   "source": [
    "### 1. Overall understanding "
   ]
  },
  {
   "cell_type": "code",
   "execution_count": 52,
   "metadata": {},
   "outputs": [],
   "source": [
    "%matplotlib inline"
   ]
  },
  {
   "cell_type": "code",
   "execution_count": 53,
   "metadata": {},
   "outputs": [
    {
     "name": "stdout",
     "output_type": "stream",
     "text": [
      " * postgresql://student@/project4\n",
      "19 rows affected.\n"
     ]
    },
    {
     "data": {
      "text/html": [
       "<table>\n",
       "    <tr>\n",
       "        <th>fiscal_year</th>\n",
       "        <th>total_spending</th>\n",
       "    </tr>\n",
       "    <tr>\n",
       "        <td>1999</td>\n",
       "        <td>5706850000.0</td>\n",
       "    </tr>\n",
       "    <tr>\n",
       "        <td>2000</td>\n",
       "        <td>5953050000.0</td>\n",
       "    </tr>\n",
       "    <tr>\n",
       "        <td>2001</td>\n",
       "        <td>6403550000.0</td>\n",
       "    </tr>\n",
       "    <tr>\n",
       "        <td>2002</td>\n",
       "        <td>6450300000.0</td>\n",
       "    </tr>\n",
       "    <tr>\n",
       "        <td>2003</td>\n",
       "        <td>6683850000.0</td>\n",
       "    </tr>\n",
       "    <tr>\n",
       "        <td>2004</td>\n",
       "        <td>6552100000.0</td>\n",
       "    </tr>\n",
       "    <tr>\n",
       "        <td>2005</td>\n",
       "        <td>6515020000.0</td>\n",
       "    </tr>\n",
       "    <tr>\n",
       "        <td>2006</td>\n",
       "        <td>7032470000.0</td>\n",
       "    </tr>\n",
       "    <tr>\n",
       "        <td>2007</td>\n",
       "        <td>7875960000.0</td>\n",
       "    </tr>\n",
       "    <tr>\n",
       "        <td>2008</td>\n",
       "        <td>8320530000.0</td>\n",
       "    </tr>\n",
       "    <tr>\n",
       "        <td>2009</td>\n",
       "        <td>8616400000.0</td>\n",
       "    </tr>\n",
       "    <tr>\n",
       "        <td>2010</td>\n",
       "        <td>9185800000.0</td>\n",
       "    </tr>\n",
       "    <tr>\n",
       "        <td>2011</td>\n",
       "        <td>9738140000.0</td>\n",
       "    </tr>\n",
       "    <tr>\n",
       "        <td>2012</td>\n",
       "        <td>10465700000.0</td>\n",
       "    </tr>\n",
       "    <tr>\n",
       "        <td>2013</td>\n",
       "        <td>11015800000.0</td>\n",
       "    </tr>\n",
       "    <tr>\n",
       "        <td>2014</td>\n",
       "        <td>11712400000.0</td>\n",
       "    </tr>\n",
       "    <tr>\n",
       "        <td>2015</td>\n",
       "        <td>11610400000.0</td>\n",
       "    </tr>\n",
       "    <tr>\n",
       "        <td>2016</td>\n",
       "        <td>12621800000.0</td>\n",
       "    </tr>\n",
       "    <tr>\n",
       "        <td>2017</td>\n",
       "        <td>12617000000.0</td>\n",
       "    </tr>\n",
       "</table>"
      ],
      "text/plain": [
       "[(1999, 5706850000.0),\n",
       " (2000, 5953050000.0),\n",
       " (2001, 6403550000.0),\n",
       " (2002, 6450300000.0),\n",
       " (2003, 6683850000.0),\n",
       " (2004, 6552100000.0),\n",
       " (2005, 6515020000.0),\n",
       " (2006, 7032470000.0),\n",
       " (2007, 7875960000.0),\n",
       " (2008, 8320530000.0),\n",
       " (2009, 8616400000.0),\n",
       " (2010, 9185800000.0),\n",
       " (2011, 9738140000.0),\n",
       " (2012, 10465700000.0),\n",
       " (2013, 11015800000.0),\n",
       " (2014, 11712400000.0),\n",
       " (2015, 11610400000.0),\n",
       " (2016, 12621800000.0),\n",
       " (2017, 12617000000.0)]"
      ]
     },
     "execution_count": 53,
     "metadata": {},
     "output_type": "execute_result"
    }
   ],
   "source": [
    "%%sql\n",
    "SELECT Fiscal_year, SUM(amount) as total_spending\n",
    "FROM transaction_facts\n",
    "JOIN Year\n",
    "  ON transaction_facts.year_key = Year.year_key\n",
    "JOIN junk_dimension\n",
    "  ON transaction_facts.junk_dimension_key = junk_dimension.junk_dimension_key\n",
    "WHERE revenue_or_spending = 'Spending'\n",
    "GROUP BY Fiscal_year\n",
    "ORDER BY Fiscal_year;"
   ]
  },
  {
   "cell_type": "code",
   "execution_count": 47,
   "metadata": {},
   "outputs": [
    {
     "data": {
      "text/plain": [
       "<BarContainer object of 19 artists>"
      ]
     },
     "execution_count": 47,
     "metadata": {},
     "output_type": "execute_result"
    },
    {
     "data": {
      "image/png": "[encoded data removed]",
      "text/plain": [
       "<Figure size 432x288 with 1 Axes>"
      ]
     },
     "metadata": {
      "needs_background": "light"
     },
     "output_type": "display_data"
    }
   ],
   "source": [
    "_.bar()"
   ]
  },
  {
   "cell_type": "markdown",
   "metadata": {},
   "source": [
    "The total spending keeps steady until 2005 and experiences a continuous growth over the years"
   ]
  },
  {
   "cell_type": "code",
   "execution_count": 48,
   "metadata": {},
   "outputs": [
    {
     "name": "stdout",
     "output_type": "stream",
     "text": [
      " * postgresql://student@/project4\n",
      "19 rows affected.\n"
     ]
    },
    {
     "data": {
      "text/html": [
       "<table>\n",
       "    <tr>\n",
       "        <th>fiscal_year</th>\n",
       "        <th>total_revenue</th>\n",
       "    </tr>\n",
       "    <tr>\n",
       "        <td>1999</td>\n",
       "        <td>5644990000.0</td>\n",
       "    </tr>\n",
       "    <tr>\n",
       "        <td>2000</td>\n",
       "        <td>7850450000.0</td>\n",
       "    </tr>\n",
       "    <tr>\n",
       "        <td>2001</td>\n",
       "        <td>5158190000.0</td>\n",
       "    </tr>\n",
       "    <tr>\n",
       "        <td>2002</td>\n",
       "        <td>5517740000.0</td>\n",
       "    </tr>\n",
       "    <tr>\n",
       "        <td>2003</td>\n",
       "        <td>6287360000.0</td>\n",
       "    </tr>\n",
       "    <tr>\n",
       "        <td>2004</td>\n",
       "        <td>6423900000.0</td>\n",
       "    </tr>\n",
       "    <tr>\n",
       "        <td>2005</td>\n",
       "        <td>7311940000.0</td>\n",
       "    </tr>\n",
       "    <tr>\n",
       "        <td>2006</td>\n",
       "        <td>8097360000.0</td>\n",
       "    </tr>\n",
       "    <tr>\n",
       "        <td>2007</td>\n",
       "        <td>8127790000.0</td>\n",
       "    </tr>\n",
       "    <tr>\n",
       "        <td>2008</td>\n",
       "        <td>8332800000.0</td>\n",
       "    </tr>\n",
       "    <tr>\n",
       "        <td>2009</td>\n",
       "        <td>9113650000.0</td>\n",
       "    </tr>\n",
       "    <tr>\n",
       "        <td>2010</td>\n",
       "        <td>11041300000.0</td>\n",
       "    </tr>\n",
       "    <tr>\n",
       "        <td>2011</td>\n",
       "        <td>10559500000.0</td>\n",
       "    </tr>\n",
       "    <tr>\n",
       "        <td>2012</td>\n",
       "        <td>11955200000.0</td>\n",
       "    </tr>\n",
       "    <tr>\n",
       "        <td>2013</td>\n",
       "        <td>12272200000.0</td>\n",
       "    </tr>\n",
       "    <tr>\n",
       "        <td>2014</td>\n",
       "        <td>12103100000.0</td>\n",
       "    </tr>\n",
       "    <tr>\n",
       "        <td>2015</td>\n",
       "        <td>12926900000.0</td>\n",
       "    </tr>\n",
       "    <tr>\n",
       "        <td>2016</td>\n",
       "        <td>13790500000.0</td>\n",
       "    </tr>\n",
       "    <tr>\n",
       "        <td>2017</td>\n",
       "        <td>13930100000.0</td>\n",
       "    </tr>\n",
       "</table>"
      ],
      "text/plain": [
       "[(1999, 5644990000.0),\n",
       " (2000, 7850450000.0),\n",
       " (2001, 5158190000.0),\n",
       " (2002, 5517740000.0),\n",
       " (2003, 6287360000.0),\n",
       " (2004, 6423900000.0),\n",
       " (2005, 7311940000.0),\n",
       " (2006, 8097360000.0),\n",
       " (2007, 8127790000.0),\n",
       " (2008, 8332800000.0),\n",
       " (2009, 9113650000.0),\n",
       " (2010, 11041300000.0),\n",
       " (2011, 10559500000.0),\n",
       " (2012, 11955200000.0),\n",
       " (2013, 12272200000.0),\n",
       " (2014, 12103100000.0),\n",
       " (2015, 12926900000.0),\n",
       " (2016, 13790500000.0),\n",
       " (2017, 13930100000.0)]"
      ]
     },
     "execution_count": 48,
     "metadata": {},
     "output_type": "execute_result"
    }
   ],
   "source": [
    "%%sql\n",
    "SELECT Fiscal_year, SUM(amount) as total_revenue\n",
    "FROM transaction_facts\n",
    "JOIN Year\n",
    "  ON transaction_facts.year_key = Year.year_key\n",
    "JOIN junk_dimension\n",
    "  ON transaction_facts.junk_dimension_key = junk_dimension.junk_dimension_key\n",
    "WHERE revenue_or_spending = 'Revenue'\n",
    "GROUP BY Fiscal_year\n",
    "ORDER BY Fiscal_year;"
   ]
  },
  {
   "cell_type": "code",
   "execution_count": 49,
   "metadata": {},
   "outputs": [
    {
     "data": {
      "text/plain": [
       "<BarContainer object of 19 artists>"
      ]
     },
     "execution_count": 49,
     "metadata": {},
     "output_type": "execute_result"
    },
    {
     "data": {
      "image/png": "[encoded data removed]",
      "text/plain": [
       "<Figure size 432x288 with 1 Axes>"
      ]
     },
     "metadata": {
      "needs_background": "light"
     },
     "output_type": "display_data"
    }
   ],
   "source": [
    "_.bar()"
   ]
  },
  {
   "cell_type": "markdown",
   "metadata": {},
   "source": [
    "The total revenue had a plunge in 2001 and grows steadily ever since."
   ]
  },
  {
   "cell_type": "code",
   "execution_count": 50,
   "metadata": {},
   "outputs": [
    {
     "data": {
      "text/html": [
       "<img src=\"https://s3.amazonaws.com/datamanagementcourse/Total+R%26S.png\"/>"
      ],
      "text/plain": [
       "<IPython.core.display.Image object>"
      ]
     },
     "execution_count": 50,
     "metadata": {},
     "output_type": "execute_result"
    }
   ],
   "source": [
    "from IPython.display import Image\n",
    "Image(url=\"https://s3.amazonaws.com/datamanagementcourse/Total+R%26S.png\")  "
   ]
  },
  {
   "cell_type": "markdown",
   "metadata": {},
   "source": [
    "The government has kept a balance of spending and revenue each year while the total amount has increased. The overall revenue is higher than the overall spending, which is good for the continual operation."
   ]
  },
  {
   "cell_type": "markdown",
   "metadata": {},
   "source": [
    "### 2. Entity"
   ]
  },
  {
   "cell_type": "code",
   "execution_count": 51,
   "metadata": {},
   "outputs": [
    {
     "name": "stdout",
     "output_type": "stream",
     "text": [
      " * postgresql://student@/project4\n",
      "7 rows affected.\n"
     ]
    },
    {
     "data": {
      "text/html": [
       "<table>\n",
       "    <tr>\n",
       "        <th>org_group</th>\n",
       "        <th>total_spending</th>\n",
       "    </tr>\n",
       "    <tr>\n",
       "        <td>Public Works, Transportation &amp; Commerce</td>\n",
       "        <td>60070700000.0</td>\n",
       "    </tr>\n",
       "    <tr>\n",
       "        <td>General Administration &amp; Finance</td>\n",
       "        <td>32236400000.0</td>\n",
       "    </tr>\n",
       "    <tr>\n",
       "        <td>Community Health</td>\n",
       "        <td>25391600000.0</td>\n",
       "    </tr>\n",
       "    <tr>\n",
       "        <td>Public Protection</td>\n",
       "        <td>20160300000.0</td>\n",
       "    </tr>\n",
       "    <tr>\n",
       "        <td>Human Welfare &amp; Neighborhood Development</td>\n",
       "        <td>16384000000.0</td>\n",
       "    </tr>\n",
       "    <tr>\n",
       "        <td>General City Responsibilities</td>\n",
       "        <td>5638310000.0</td>\n",
       "    </tr>\n",
       "    <tr>\n",
       "        <td>Culture &amp; Recreation</td>\n",
       "        <td>5184740000.0</td>\n",
       "    </tr>\n",
       "</table>"
      ],
      "text/plain": [
       "[('Public Works, Transportation & Commerce', 60070700000.0),\n",
       " ('General Administration & Finance', 32236400000.0),\n",
       " ('Community Health', 25391600000.0),\n",
       " ('Public Protection', 20160300000.0),\n",
       " ('Human Welfare & Neighborhood Development', 16384000000.0),\n",
       " ('General City Responsibilities', 5638310000.0),\n",
       " ('Culture & Recreation', 5184740000.0)]"
      ]
     },
     "execution_count": 51,
     "metadata": {},
     "output_type": "execute_result"
    }
   ],
   "source": [
    "%%sql\n",
    "select org_group, SUM(amount) as total_spending\n",
    "from transaction_facts\n",
    "join entity\n",
    "on transaction_facts.entity_key = entity.entity_key \n",
    "join junk_dimension\n",
    "on transaction_facts.junk_dimension_key = junk_dimension.junk_dimension_key\n",
    "where revenue_or_spending = 'Spending'\n",
    "group by org_group\n",
    "order by total_spending DESC"
   ]
  },
  {
   "cell_type": "code",
   "execution_count": 52,
   "metadata": {},
   "outputs": [
    {
     "data": {
      "text/plain": [
       "<BarContainer object of 7 artists>"
      ]
     },
     "execution_count": 52,
     "metadata": {},
     "output_type": "execute_result"
    },
    {
     "data": {
      "image/png": "[encoded data removed]",
      "text/plain": [
       "<Figure size 432x288 with 1 Axes>"
      ]
     },
     "metadata": {
      "needs_background": "light"
     },
     "output_type": "display_data"
    }
   ],
   "source": [
    "_.bar()"
   ]
  },
  {
   "cell_type": "markdown",
   "metadata": {},
   "source": [
    "Public Works, Transportation & Commerce is the organization group that has the highest total spending, which almost doubles the second one of General Administration & Finance. Community Health holds the third place."
   ]
  },
  {
   "cell_type": "code",
   "execution_count": 53,
   "metadata": {},
   "outputs": [
    {
     "name": "stdout",
     "output_type": "stream",
     "text": [
      " * postgresql://student@/project4\n",
      "7 rows affected.\n"
     ]
    },
    {
     "data": {
      "text/html": [
       "<table>\n",
       "    <tr>\n",
       "        <th>org_group</th>\n",
       "        <th>total_revenue</th>\n",
       "    </tr>\n",
       "    <tr>\n",
       "        <td>Public Works, Transportation &amp; Commerce</td>\n",
       "        <td>60067200000.0</td>\n",
       "    </tr>\n",
       "    <tr>\n",
       "        <td>General City Responsibilities</td>\n",
       "        <td>33875700000.0</td>\n",
       "    </tr>\n",
       "    <tr>\n",
       "        <td>General Administration &amp; Finance</td>\n",
       "        <td>30722100000.0</td>\n",
       "    </tr>\n",
       "    <tr>\n",
       "        <td>Community Health</td>\n",
       "        <td>22894200000.0</td>\n",
       "    </tr>\n",
       "    <tr>\n",
       "        <td>Human Welfare &amp; Neighborhood Development</td>\n",
       "        <td>19146800000.0</td>\n",
       "    </tr>\n",
       "    <tr>\n",
       "        <td>Public Protection</td>\n",
       "        <td>4979830000.0</td>\n",
       "    </tr>\n",
       "    <tr>\n",
       "        <td>Culture &amp; Recreation</td>\n",
       "        <td>4759060000.0</td>\n",
       "    </tr>\n",
       "</table>"
      ],
      "text/plain": [
       "[('Public Works, Transportation & Commerce', 60067200000.0),\n",
       " ('General City Responsibilities', 33875700000.0),\n",
       " ('General Administration & Finance', 30722100000.0),\n",
       " ('Community Health', 22894200000.0),\n",
       " ('Human Welfare & Neighborhood Development', 19146800000.0),\n",
       " ('Public Protection', 4979830000.0),\n",
       " ('Culture & Recreation', 4759060000.0)]"
      ]
     },
     "execution_count": 53,
     "metadata": {},
     "output_type": "execute_result"
    }
   ],
   "source": [
    "%%sql\n",
    "select org_group, SUM(amount) as total_revenue\n",
    "from transaction_facts\n",
    "join entity\n",
    "on transaction_facts.entity_key = entity.entity_key \n",
    "join junk_dimension\n",
    "on transaction_facts.junk_dimension_key = junk_dimension.junk_dimension_key\n",
    "where revenue_or_spending = 'Revenue'\n",
    "group by org_group\n",
    "order by total_revenue DESC"
   ]
  },
  {
   "cell_type": "code",
   "execution_count": 54,
   "metadata": {},
   "outputs": [
    {
     "data": {
      "text/plain": [
       "<BarContainer object of 7 artists>"
      ]
     },
     "execution_count": 54,
     "metadata": {},
     "output_type": "execute_result"
    },
    {
     "data": {
      "image/png": "[encoded data removed]",
      "text/plain": [
       "<Figure size 432x288 with 1 Axes>"
      ]
     },
     "metadata": {
      "needs_background": "light"
     },
     "output_type": "display_data"
    }
   ],
   "source": [
    "_.bar()"
   ]
  },
  {
   "cell_type": "markdown",
   "metadata": {},
   "source": [
    "Public Works, Transportation & Commerce also have the highest revenue. Unlike the spending, the second organization is General City Responsibilities, the third is General Administration & Finance."
   ]
  },
  {
   "cell_type": "code",
   "execution_count": 55,
   "metadata": {},
   "outputs": [
    {
     "data": {
      "text/html": [
       "<img src=\"https://s3.amazonaws.com/datamanagementcourse/Yearly+Revenue+and+Spending+by+Organization+Group.png\"/>"
      ],
      "text/plain": [
       "<IPython.core.display.Image object>"
      ]
     },
     "execution_count": 55,
     "metadata": {},
     "output_type": "execute_result"
    }
   ],
   "source": [
    "from IPython.display import Image\n",
    "Image(url=\"https://s3.amazonaws.com/datamanagementcourse/Yearly+Revenue+and+Spending+by+Organization+Group.png\")  "
   ]
  },
  {
   "cell_type": "markdown",
   "metadata": {},
   "source": [
    "Overall the revenue and spending is in balance for most organization group. But the revenue of General City Responsibilities is always higher than its spending, while the spending of Public Protection is higher than its revenue over the years. We can also see that the dip in total 2001 revenue can be attributed to the dip in revenue from General Administration & Finance."
   ]
  },
  {
   "cell_type": "markdown",
   "metadata": {},
   "source": [
    "### 3. Nature"
   ]
  },
  {
   "cell_type": "code",
   "execution_count": 56,
   "metadata": {},
   "outputs": [
    {
     "name": "stdout",
     "output_type": "stream",
     "text": [
      " * postgresql://student@/project4\n",
      "10 rows affected.\n"
     ]
    },
    {
     "data": {
      "text/html": [
       "<table>\n",
       "    <tr>\n",
       "        <th>character</th>\n",
       "        <th>total_spending</th>\n",
       "    </tr>\n",
       "    <tr>\n",
       "        <td>Salaries</td>\n",
       "        <td>46353400000.0</td>\n",
       "    </tr>\n",
       "    <tr>\n",
       "        <td>Non Personnel Services</td>\n",
       "        <td>40788800000.0</td>\n",
       "    </tr>\n",
       "    <tr>\n",
       "        <td>Fiduciary-Benefit Payments</td>\n",
       "        <td>24173400000.0</td>\n",
       "    </tr>\n",
       "    <tr>\n",
       "        <td>Mandatory Fringe Benefits</td>\n",
       "        <td>16367100000.0</td>\n",
       "    </tr>\n",
       "    <tr>\n",
       "        <td>Intrafund Transfers Out</td>\n",
       "        <td>15929600000.0</td>\n",
       "    </tr>\n",
       "    <tr>\n",
       "        <td>Operating Transfers Out</td>\n",
       "        <td>14805900000.0</td>\n",
       "    </tr>\n",
       "    <tr>\n",
       "        <td>Debt Service</td>\n",
       "        <td>13500500000.0</td>\n",
       "    </tr>\n",
       "    <tr>\n",
       "        <td>Services Of Other Depts</td>\n",
       "        <td>11047300000.0</td>\n",
       "    </tr>\n",
       "    <tr>\n",
       "        <td>Capital Outlay</td>\n",
       "        <td>7379130000.0</td>\n",
       "    </tr>\n",
       "    <tr>\n",
       "        <td>Materials &amp; Supplies</td>\n",
       "        <td>4956670000.0</td>\n",
       "    </tr>\n",
       "</table>"
      ],
      "text/plain": [
       "[('Salaries', 46353400000.0),\n",
       " ('Non Personnel Services', 40788800000.0),\n",
       " ('Fiduciary-Benefit Payments', 24173400000.0),\n",
       " ('Mandatory Fringe Benefits', 16367100000.0),\n",
       " ('Intrafund Transfers Out', 15929600000.0),\n",
       " ('Operating Transfers Out', 14805900000.0),\n",
       " ('Debt Service', 13500500000.0),\n",
       " ('Services Of Other Depts', 11047300000.0),\n",
       " ('Capital Outlay', 7379130000.0),\n",
       " ('Materials & Supplies', 4956670000.0)]"
      ]
     },
     "execution_count": 56,
     "metadata": {},
     "output_type": "execute_result"
    }
   ],
   "source": [
    "%%sql\n",
    "select character, SUM(amount) as total_spending\n",
    "from transaction_facts\n",
    "join nature\n",
    "on transaction_facts.nature_key = nature.nature_key \n",
    "join junk_dimension\n",
    "on transaction_facts.junk_dimension_key = junk_dimension.junk_dimension_key\n",
    "where junk_dimension.revenue_or_spending = 'Spending'\n",
    "group by character\n",
    "order by total_spending DESC\n",
    "LIMIT 10"
   ]
  },
  {
   "cell_type": "code",
   "execution_count": 57,
   "metadata": {},
   "outputs": [
    {
     "data": {
      "text/plain": [
       "<BarContainer object of 10 artists>"
      ]
     },
     "execution_count": 57,
     "metadata": {},
     "output_type": "execute_result"
    },
    {
     "data": {
      "image/png": "[encoded data removed]",
      "text/plain": [
       "<Figure size 432x288 with 1 Axes>"
      ]
     },
     "metadata": {
      "needs_background": "light"
     },
     "output_type": "display_data"
    }
   ],
   "source": [
    "_.bar()"
   ]
  },
  {
   "cell_type": "markdown",
   "metadata": {},
   "source": [
    "Salaries, Non Personnel Services, Fiduciary-Benefit Payments is the top 3 characters with the highest total spending."
   ]
  },
  {
   "cell_type": "code",
   "execution_count": 58,
   "metadata": {},
   "outputs": [
    {
     "name": "stdout",
     "output_type": "stream",
     "text": [
      " * postgresql://student@/project4\n",
      "10 rows affected.\n"
     ]
    },
    {
     "data": {
      "text/html": [
       "<table>\n",
       "    <tr>\n",
       "        <th>character</th>\n",
       "        <th>total_revenue</th>\n",
       "    </tr>\n",
       "    <tr>\n",
       "        <td>Charges For Services</td>\n",
       "        <td>49406200000.0</td>\n",
       "    </tr>\n",
       "    <tr>\n",
       "        <td>Property Taxes</td>\n",
       "        <td>30009700000.0</td>\n",
       "    </tr>\n",
       "    <tr>\n",
       "        <td>Intrafund Transfers In</td>\n",
       "        <td>15826900000.0</td>\n",
       "    </tr>\n",
       "    <tr>\n",
       "        <td>Intergovernmental Rev-State</td>\n",
       "        <td>15680300000.0</td>\n",
       "    </tr>\n",
       "    <tr>\n",
       "        <td>Operating Transfers In</td>\n",
       "        <td>15534800000.0</td>\n",
       "    </tr>\n",
       "    <tr>\n",
       "        <td>Other Financing Sources</td>\n",
       "        <td>15278800000.0</td>\n",
       "    </tr>\n",
       "    <tr>\n",
       "        <td>Expenditure Recovery</td>\n",
       "        <td>13853800000.0</td>\n",
       "    </tr>\n",
       "    <tr>\n",
       "        <td>Other Local Taxes</td>\n",
       "        <td>11697200000.0</td>\n",
       "    </tr>\n",
       "    <tr>\n",
       "        <td>Intergovernmental Rev-Federal</td>\n",
       "        <td>10671500000.0</td>\n",
       "    </tr>\n",
       "    <tr>\n",
       "        <td>Contribtns (Ret;Hss;Hlth Care)</td>\n",
       "        <td>8284410000.0</td>\n",
       "    </tr>\n",
       "</table>"
      ],
      "text/plain": [
       "[('Charges For Services', 49406200000.0),\n",
       " ('Property Taxes', 30009700000.0),\n",
       " ('Intrafund Transfers In', 15826900000.0),\n",
       " ('Intergovernmental Rev-State', 15680300000.0),\n",
       " ('Operating Transfers In', 15534800000.0),\n",
       " ('Other Financing Sources', 15278800000.0),\n",
       " ('Expenditure Recovery', 13853800000.0),\n",
       " ('Other Local Taxes', 11697200000.0),\n",
       " ('Intergovernmental Rev-Federal', 10671500000.0),\n",
       " ('Contribtns (Ret;Hss;Hlth Care)', 8284410000.0)]"
      ]
     },
     "execution_count": 58,
     "metadata": {},
     "output_type": "execute_result"
    }
   ],
   "source": [
    "%%sql\n",
    "select character, SUM(amount) as total_revenue\n",
    "from transaction_facts\n",
    "join nature\n",
    "on transaction_facts.nature_key = nature.nature_key \n",
    "join junk_dimension\n",
    "on transaction_facts.junk_dimension_key = junk_dimension.junk_dimension_key\n",
    "where junk_dimension.revenue_or_spending = 'Revenue'\n",
    "group by character\n",
    "order by total_revenue DESC\n",
    "LIMIT 10"
   ]
  },
  {
   "cell_type": "code",
   "execution_count": 59,
   "metadata": {},
   "outputs": [
    {
     "data": {
      "text/plain": [
       "<BarContainer object of 10 artists>"
      ]
     },
     "execution_count": 59,
     "metadata": {},
     "output_type": "execute_result"
    },
    {
     "data": {
      "image/png": "[encoded data removed]",
      "text/plain": [
       "<Figure size 432x288 with 1 Axes>"
      ]
     },
     "metadata": {
      "needs_background": "light"
     },
     "output_type": "display_data"
    }
   ],
   "source": [
    "_.bar()"
   ]
  },
  {
   "cell_type": "markdown",
   "metadata": {},
   "source": [
    "Charges For Services, Property Taxes and Intrafund Transfers In is the top 3 character with the highest total revenue."
   ]
  },
  {
   "cell_type": "code",
   "execution_count": 60,
   "metadata": {},
   "outputs": [
    {
     "data": {
      "text/html": [
       "<img src=\"https://s3.amazonaws.com/datamanagementcourse/Yearly+Revenue+and+Spending+by+Character(10).png\"/>"
      ],
      "text/plain": [
       "<IPython.core.display.Image object>"
      ]
     },
     "execution_count": 60,
     "metadata": {},
     "output_type": "execute_result"
    }
   ],
   "source": [
    "from IPython.display import Image\n",
    "Image(url=\"https://s3.amazonaws.com/datamanagementcourse/Yearly+Revenue+and+Spending+by+Character(10).png\")  "
   ]
  },
  {
   "cell_type": "markdown",
   "metadata": {},
   "source": [
    "Character is accounting term specially designed for revenue and spending, so there is not much comparison between them."
   ]
  },
  {
   "cell_type": "markdown",
   "metadata": {},
   "source": [
    "### 4. Fund"
   ]
  },
  {
   "cell_type": "code",
   "execution_count": 61,
   "metadata": {},
   "outputs": [
    {
     "name": "stdout",
     "output_type": "stream",
     "text": [
      " * postgresql://student@/project4\n",
      "10 rows affected.\n"
     ]
    },
    {
     "data": {
      "text/html": [
       "<table>\n",
       "    <tr>\n",
       "        <th>fund_type</th>\n",
       "        <th>total_spending</th>\n",
       "    </tr>\n",
       "    <tr>\n",
       "        <td>General Fund</td>\n",
       "        <td>44837700000.0</td>\n",
       "    </tr>\n",
       "    <tr>\n",
       "        <td>SF International Airport Funds</td>\n",
       "        <td>17070900000.0</td>\n",
       "    </tr>\n",
       "    <tr>\n",
       "        <td>Pension Trust Funds</td>\n",
       "        <td>15327000000.0</td>\n",
       "    </tr>\n",
       "    <tr>\n",
       "        <td>MTA Municipal Railway Funds</td>\n",
       "        <td>15102200000.0</td>\n",
       "    </tr>\n",
       "    <tr>\n",
       "        <td>Special Revenue Funds</td>\n",
       "        <td>13339600000.0</td>\n",
       "    </tr>\n",
       "    <tr>\n",
       "        <td>General Hospital Medical Center Funds</td>\n",
       "        <td>10808800000.0</td>\n",
       "    </tr>\n",
       "    <tr>\n",
       "        <td>Other Employee Benefit Trust Funds</td>\n",
       "        <td>10109200000.0</td>\n",
       "    </tr>\n",
       "    <tr>\n",
       "        <td>PUC Water Department Funds</td>\n",
       "        <td>9327910000.0</td>\n",
       "    </tr>\n",
       "    <tr>\n",
       "        <td>PUC Wastewater Funds</td>\n",
       "        <td>4737750000.0</td>\n",
       "    </tr>\n",
       "    <tr>\n",
       "        <td>Capital Projects Funds</td>\n",
       "        <td>4331310000.0</td>\n",
       "    </tr>\n",
       "</table>"
      ],
      "text/plain": [
       "[('General Fund', 44837700000.0),\n",
       " ('SF International Airport Funds', 17070900000.0),\n",
       " ('Pension Trust Funds', 15327000000.0),\n",
       " ('MTA Municipal Railway Funds', 15102200000.0),\n",
       " ('Special Revenue Funds', 13339600000.0),\n",
       " ('General Hospital Medical Center Funds', 10808800000.0),\n",
       " ('Other Employee Benefit Trust Funds', 10109200000.0),\n",
       " ('PUC Water Department Funds', 9327910000.0),\n",
       " ('PUC Wastewater Funds', 4737750000.0),\n",
       " ('Capital Projects Funds', 4331310000.0)]"
      ]
     },
     "execution_count": 61,
     "metadata": {},
     "output_type": "execute_result"
    }
   ],
   "source": [
    "%%sql\n",
    "select fund_type, SUM(amount) as total_spending\n",
    "from transaction_facts\n",
    "join fund\n",
    "on transaction_facts.fund_key = fund.fund_key \n",
    "join junk_dimension\n",
    "on transaction_facts.junk_dimension_key = junk_dimension.junk_dimension_key\n",
    "where junk_dimension.revenue_or_spending = 'Spending'\n",
    "group by fund_type\n",
    "order by total_spending DESC\n",
    "LIMIT 10"
   ]
  },
  {
   "cell_type": "code",
   "execution_count": 62,
   "metadata": {},
   "outputs": [
    {
     "data": {
      "text/plain": [
       "<BarContainer object of 10 artists>"
      ]
     },
     "execution_count": 62,
     "metadata": {},
     "output_type": "execute_result"
    },
    {
     "data": {
      "image/png": "[encoded data removed]",
      "text/plain": [
       "<Figure size 432x288 with 1 Axes>"
      ]
     },
     "metadata": {
      "needs_background": "light"
     },
     "output_type": "display_data"
    }
   ],
   "source": [
    "_.bar()"
   ]
  },
  {
   "cell_type": "markdown",
   "metadata": {},
   "source": [
    "The spending amount that general fund raised takes up a large proportion of the fund type. Then it's SF International Airport Funds and Pension Trust Funds."
   ]
  },
  {
   "cell_type": "code",
   "execution_count": 63,
   "metadata": {},
   "outputs": [
    {
     "name": "stdout",
     "output_type": "stream",
     "text": [
      " * postgresql://student@/project4\n",
      "10 rows affected.\n"
     ]
    },
    {
     "data": {
      "text/html": [
       "<table>\n",
       "    <tr>\n",
       "        <th>fund_type</th>\n",
       "        <th>total_revenue</th>\n",
       "    </tr>\n",
       "    <tr>\n",
       "        <td>General Fund</td>\n",
       "        <td>46499100000.0</td>\n",
       "    </tr>\n",
       "    <tr>\n",
       "        <td>SF International Airport Funds</td>\n",
       "        <td>16491800000.0</td>\n",
       "    </tr>\n",
       "    <tr>\n",
       "        <td>Pension Trust Funds</td>\n",
       "        <td>15558300000.0</td>\n",
       "    </tr>\n",
       "    <tr>\n",
       "        <td>MTA Municipal Railway Funds</td>\n",
       "        <td>15497600000.0</td>\n",
       "    </tr>\n",
       "    <tr>\n",
       "        <td>Special Revenue Funds</td>\n",
       "        <td>14290700000.0</td>\n",
       "    </tr>\n",
       "    <tr>\n",
       "        <td>General Hospital Medical Center Funds</td>\n",
       "        <td>10906400000.0</td>\n",
       "    </tr>\n",
       "    <tr>\n",
       "        <td>Other Employee Benefit Trust Funds</td>\n",
       "        <td>10202400000.0</td>\n",
       "    </tr>\n",
       "    <tr>\n",
       "        <td>PUC Water Department Funds</td>\n",
       "        <td>9584240000.0</td>\n",
       "    </tr>\n",
       "    <tr>\n",
       "        <td>Agency Funds</td>\n",
       "        <td>9499340000.0</td>\n",
       "    </tr>\n",
       "    <tr>\n",
       "        <td>PUC Wastewater Funds</td>\n",
       "        <td>4789470000.0</td>\n",
       "    </tr>\n",
       "</table>"
      ],
      "text/plain": [
       "[('General Fund', 46499100000.0),\n",
       " ('SF International Airport Funds', 16491800000.0),\n",
       " ('Pension Trust Funds', 15558300000.0),\n",
       " ('MTA Municipal Railway Funds', 15497600000.0),\n",
       " ('Special Revenue Funds', 14290700000.0),\n",
       " ('General Hospital Medical Center Funds', 10906400000.0),\n",
       " ('Other Employee Benefit Trust Funds', 10202400000.0),\n",
       " ('PUC Water Department Funds', 9584240000.0),\n",
       " ('Agency Funds', 9499340000.0),\n",
       " ('PUC Wastewater Funds', 4789470000.0)]"
      ]
     },
     "execution_count": 63,
     "metadata": {},
     "output_type": "execute_result"
    }
   ],
   "source": [
    "%%sql\n",
    "select fund_type, SUM(amount) as total_revenue\n",
    "from transaction_facts\n",
    "join fund\n",
    "on transaction_facts.fund_key = fund.fund_key \n",
    "join junk_dimension\n",
    "on transaction_facts.junk_dimension_key = junk_dimension.junk_dimension_key\n",
    "where junk_dimension.revenue_or_spending = 'Revenue'\n",
    "group by fund_type\n",
    "order by total_revenue DESC\n",
    "LIMIT 10"
   ]
  },
  {
   "cell_type": "code",
   "execution_count": 64,
   "metadata": {},
   "outputs": [
    {
     "data": {
      "text/plain": [
       "<BarContainer object of 10 artists>"
      ]
     },
     "execution_count": 64,
     "metadata": {},
     "output_type": "execute_result"
    },
    {
     "data": {
      "image/png": "[encoded data removed]",
      "text/plain": [
       "<Figure size 432x288 with 1 Axes>"
      ]
     },
     "metadata": {
      "needs_background": "light"
     },
     "output_type": "display_data"
    }
   ],
   "source": [
    "_.bar()"
   ]
  },
  {
   "cell_type": "markdown",
   "metadata": {},
   "source": [
    "The revenue amount that general fund raised takes up a large proportion of the fund type. Similarly, then it's SF International Airport Funds and Pension Trust Funds."
   ]
  },
  {
   "cell_type": "code",
   "execution_count": 65,
   "metadata": {},
   "outputs": [
    {
     "data": {
      "text/html": [
       "<img src=\"https://s3.amazonaws.com/datamanagementcourse/Yearly+Spending+and+Revenue+by+Fund+Type.png\"/>"
      ],
      "text/plain": [
       "<IPython.core.display.Image object>"
      ]
     },
     "execution_count": 65,
     "metadata": {},
     "output_type": "execute_result"
    }
   ],
   "source": [
    "from IPython.display import Image\n",
    "Image(url=\"https://s3.amazonaws.com/datamanagementcourse/Yearly+Spending+and+Revenue+by+Fund+Type.png\")  "
   ]
  },
  {
   "cell_type": "markdown",
   "metadata": {},
   "source": [
    "We can again see a dip in 2001 We can also see that the dip in total 2001 revenue can be attributed to the dip in revenue from Pension Trust Funds. Matching this with the dip in organisation Group General Administration & Finance, we can see that there was some change in policy of Pensions Trust Funds within the General Administration & Finance organisation group"
   ]
  },
  {
   "cell_type": "markdown",
   "metadata": {},
   "source": [
    "## (Bonus) Part IV"
   ]
  },
  {
   "cell_type": "markdown",
   "metadata": {},
   "source": [
    "First, we download the dataset ‘Budget' for the city of San Francisco from our S3 bucket. This data can be assessed from https://data.sfgov.org/City-Management-and-Ethics/Budget-FTE/4zfx-f2ts. These two datasets have exactly the same structure. So we can easily compare the budget with acutual amount and generate more insights after introducing the budget dataset."
   ]
  },
  {
   "cell_type": "code",
   "execution_count": 54,
   "metadata": {},
   "outputs": [
    {
     "name": "stdout",
     "output_type": "stream",
     "text": [
      "--2018-12-10 15:34:32--  https://s3.amazonaws.com/datamanagementcourse/Budget.csv\n",
      "Resolving s3.amazonaws.com (s3.amazonaws.com)... 52.216.130.213\n",
      "Connecting to s3.amazonaws.com (s3.amazonaws.com)|52.216.130.213|:443... connected.\n",
      "HTTP request sent, awaiting response... 200 OK\n",
      "Length: 36399927 (35M) [text/csv]\n",
      "Saving to: ‘Budget.csv.1’\n",
      "\n",
      "Budget.csv.1        100%[===================>]  34.71M  26.1MB/s    in 1.3s    \n",
      "\n",
      "2018-12-10 15:34:34 (26.1 MB/s) - ‘Budget.csv.1’ saved [36399927/36399927]\n",
      "\n"
     ]
    }
   ],
   "source": [
    "!wget https://s3.amazonaws.com/datamanagementcourse/Budget.csv  "
   ]
  },
  {
   "cell_type": "code",
   "execution_count": 55,
   "metadata": {},
   "outputs": [
    {
     "name": "stdout",
     "output_type": "stream",
     "text": [
      "140001 Budget.csv\n"
     ]
    }
   ],
   "source": [
    "!wc -l Budget.csv"
   ]
  },
  {
   "cell_type": "code",
   "execution_count": 56,
   "metadata": {},
   "outputs": [
    {
     "name": "stdout",
     "output_type": "stream",
     "text": [
      "  1: Fiscal Year\n",
      "  2: Revenue or Spending\n",
      "  3: Related Gov't Unit\n",
      "  4: Organization Group Code\n",
      "  5: Organization Group\n",
      "  6: Department Code\n",
      "  7: Department\n",
      "  8: Program Code\n",
      "  9: Program\n",
      " 10: Character Code\n",
      " 11: Character\n",
      " 12: Object Code\n",
      " 13: Object\n",
      " 14: Sub-object Code\n",
      " 15: Sub-object\n",
      " 16: Fund Type Code\n",
      " 17: Fund Type\n",
      " 18: Fund Code\n",
      " 19: Fund\n",
      " 20: Fund Category Code\n",
      " 21: Fund Category\n",
      " 22: Amount\n"
     ]
    }
   ],
   "source": [
    "!csvcut -n Budget.csv"
   ]
  },
  {
   "cell_type": "code",
   "execution_count": 69,
   "metadata": {},
   "outputs": [
    {
     "name": "stdout",
     "output_type": "stream",
     "text": [
      "  1. Fiscal Year: False\n",
      "  2. Revenue or Spending: False\n",
      "  3. Related Gov't Unit: False\n",
      "  4. Organization Group Code: False\n",
      "  5. Organization Group: False\n",
      "  6. Department Code: False\n",
      "  7. Department: False\n",
      "  8. Program Code: False\n",
      "  9. Program: False\n",
      " 10. Character Code: False\n",
      " 11. Character: False\n",
      " 12. Object Code: False\n",
      " 13. Object: False\n",
      " 14. Sub-object Code: False\n",
      " 15. Sub-object: False\n",
      " 16. Fund Type Code: False\n",
      " 17. Fund Type: False\n",
      " 18. Fund Code: False\n",
      " 19. Fund: False\n",
      " 20. Fund Category Code: True\n",
      " 21. Fund Category: True\n",
      " 22. Amount: False\n"
     ]
    }
   ],
   "source": [
    "!head -n 75000 Budget.csv | csvstat --nulls"
   ]
  },
  {
   "cell_type": "markdown",
   "metadata": {},
   "source": [
    "We got several null values in the column of Fund Category Code and Fund Category. It's a small proportion of the dataset so we decided to drop those lines. "
   ]
  },
  {
   "cell_type": "markdown",
   "metadata": {},
   "source": [
    "First, we create the budget fact table with all the variables in our csv file."
   ]
  },
  {
   "cell_type": "code",
   "execution_count": 57,
   "metadata": {},
   "outputs": [
    {
     "name": "stdout",
     "output_type": "stream",
     "text": [
      " * postgresql://student@/project4\n",
      "Done.\n",
      "Done.\n"
     ]
    },
    {
     "data": {
      "text/plain": [
       "[]"
      ]
     },
     "execution_count": 57,
     "metadata": {},
     "output_type": "execute_result"
    }
   ],
   "source": [
    "%%sql\n",
    "DROP TABLE IF EXISTS budget_facts;\n",
    "\n",
    "CREATE TABLE budget_facts (\n",
    "    fiscal_year INTEGER,\n",
    "    revenue_or_spending VARCHAR(10),\n",
    "    related_govt VARCHAR(5),\n",
    "    org_group_code VARCHAR(5),\n",
    "    org_group VARCHAR(50),\n",
    "    dept_code VARCHAR(50),\n",
    "    dept VARCHAR(50),\n",
    "    program_code VARCHAR(50),\n",
    "    program VARCHAR(50),\n",
    "    character_code VARCHAR(50),\n",
    "    character VARCHAR(50),\n",
    "    obj_code VARCHAR(50),\n",
    "    obj VARCHAR(50),\n",
    "    sub_obj_code VARCHAR(50),\n",
    "    sub_obj VARCHAR(50),\n",
    "    fund_type_code VARCHAR(50),\n",
    "    fund_type VARCHAR(50),\n",
    "    fund_code VARCHAR(50),\n",
    "    fund VARCHAR(50),\n",
    "    fund_category_code DOUBLE PRECISION,\n",
    "    fund_category VARCHAR(50),\n",
    "    amount FLOAT(2)\n",
    ")"
   ]
  },
  {
   "cell_type": "markdown",
   "metadata": {},
   "source": [
    "Now we load our csv file into the created table"
   ]
  },
  {
   "cell_type": "markdown",
   "metadata": {},
   "source": [
    "Make sure your current working directory is /home/ubuntu"
   ]
  },
  {
   "cell_type": "code",
   "execution_count": 71,
   "metadata": {},
   "outputs": [
    {
     "data": {
      "text/plain": [
       "'/home/ubuntu'"
      ]
     },
     "execution_count": 71,
     "metadata": {},
     "output_type": "execute_result"
    }
   ],
   "source": [
    "pwd"
   ]
  },
  {
   "cell_type": "code",
   "execution_count": 58,
   "metadata": {},
   "outputs": [
    {
     "name": "stdout",
     "output_type": "stream",
     "text": [
      " * postgresql://student@/project4\n",
      "140001 rows affected.\n"
     ]
    },
    {
     "data": {
      "text/plain": [
       "[]"
      ]
     },
     "execution_count": 58,
     "metadata": {},
     "output_type": "execute_result"
    }
   ],
   "source": [
    "%%sql\n",
    "COPY budget_facts FROM '/home/ubuntu/Budget.csv'\n",
    "with (format csv, HEADER);"
   ]
  },
  {
   "cell_type": "markdown",
   "metadata": {},
   "source": [
    "Delete rows with null values based on csvstat result."
   ]
  },
  {
   "cell_type": "code",
   "execution_count": 59,
   "metadata": {},
   "outputs": [
    {
     "name": "stdout",
     "output_type": "stream",
     "text": [
      " * postgresql://student@/project4\n",
      "31 rows affected.\n"
     ]
    },
    {
     "data": {
      "text/plain": [
       "[]"
      ]
     },
     "execution_count": 59,
     "metadata": {},
     "output_type": "execute_result"
    }
   ],
   "source": [
    "%%sql\n",
    "DELETE FROM budget_facts WHERE \n",
    "fund_category_code IS NULL\n",
    "OR fund_category IS NULL\n",
    ";"
   ]
  },
  {
   "cell_type": "code",
   "execution_count": 60,
   "metadata": {},
   "outputs": [
    {
     "name": "stdout",
     "output_type": "stream",
     "text": [
      " * postgresql://student@/project4\n",
      "1 rows affected.\n"
     ]
    },
    {
     "data": {
      "text/html": [
       "<table>\n",
       "    <tr>\n",
       "        <th>count</th>\n",
       "    </tr>\n",
       "    <tr>\n",
       "        <td>139970</td>\n",
       "    </tr>\n",
       "</table>"
      ],
      "text/plain": [
       "[(139970,)]"
      ]
     },
     "execution_count": 60,
     "metadata": {},
     "output_type": "execute_result"
    }
   ],
   "source": [
    "%%sql\n",
    "SELECT COUNT(*) FROM budget_facts;"
   ]
  },
  {
   "cell_type": "markdown",
   "metadata": {},
   "source": [
    "By then, we have loaded all the budget data into the schema with no null values."
   ]
  },
  {
   "cell_type": "code",
   "execution_count": 61,
   "metadata": {},
   "outputs": [
    {
     "name": "stdout",
     "output_type": "stream",
     "text": [
      " * postgresql://student@/project4\n",
      "5 rows affected.\n"
     ]
    },
    {
     "data": {
      "text/html": [
       "<table>\n",
       "    <tr>\n",
       "        <th>fiscal_year</th>\n",
       "        <th>revenue_or_spending</th>\n",
       "        <th>related_govt</th>\n",
       "        <th>org_group_code</th>\n",
       "        <th>org_group</th>\n",
       "        <th>dept_code</th>\n",
       "        <th>dept</th>\n",
       "        <th>program_code</th>\n",
       "        <th>program</th>\n",
       "        <th>character_code</th>\n",
       "        <th>character</th>\n",
       "        <th>obj_code</th>\n",
       "        <th>obj</th>\n",
       "        <th>sub_obj_code</th>\n",
       "        <th>sub_obj</th>\n",
       "        <th>fund_type_code</th>\n",
       "        <th>fund_type</th>\n",
       "        <th>fund_code</th>\n",
       "        <th>fund</th>\n",
       "        <th>fund_category_code</th>\n",
       "        <th>fund_category</th>\n",
       "        <th>amount</th>\n",
       "    </tr>\n",
       "    <tr>\n",
       "        <td>2013</td>\n",
       "        <td>Spending</td>\n",
       "        <td>No</td>\n",
       "        <td>6</td>\n",
       "        <td>General Administration &amp; Finance</td>\n",
       "        <td>ASR</td>\n",
       "        <td>Assessor/Recorder</td>\n",
       "        <td>FDL</td>\n",
       "        <td>Technical Services</td>\n",
       "        <td>21</td>\n",
       "        <td>Non Personnel Services</td>\n",
       "        <td>31</td>\n",
       "        <td>Rents &amp; Leases-Equipment</td>\n",
       "        <td>3131</td>\n",
       "        <td>Office Machine Rental</td>\n",
       "        <td>1G</td>\n",
       "        <td>General Fund</td>\n",
       "        <td>1GAGF</td>\n",
       "        <td>General Fund</td>\n",
       "        <td>1.0</td>\n",
       "        <td>Operating</td>\n",
       "        <td>28840.0</td>\n",
       "    </tr>\n",
       "    <tr>\n",
       "        <td>2015</td>\n",
       "        <td>Spending</td>\n",
       "        <td>No</td>\n",
       "        <td>3</td>\n",
       "        <td>Human Welfare &amp; Neighborhood Development</td>\n",
       "        <td>DSS</td>\n",
       "        <td>Human Services</td>\n",
       "        <td>XXX</td>\n",
       "        <td>No Program Defined</td>\n",
       "        <td>ELU</td>\n",
       "        <td>Transfer Adjustments-Uses</td>\n",
       "        <td>ELU</td>\n",
       "        <td>Transfer Adjustments-Uses</td>\n",
       "        <td>ELIMUD</td>\n",
       "        <td>Transfer Adjustments-Uses</td>\n",
       "        <td>1G</td>\n",
       "        <td>General Fund</td>\n",
       "        <td>1GAGF</td>\n",
       "        <td>General Fund</td>\n",
       "        <td>1.0</td>\n",
       "        <td>Operating</td>\n",
       "        <td>-17045800.0</td>\n",
       "    </tr>\n",
       "    <tr>\n",
       "        <td>2013</td>\n",
       "        <td>Spending</td>\n",
       "        <td>No</td>\n",
       "        <td>6</td>\n",
       "        <td>General Administration &amp; Finance</td>\n",
       "        <td>HRD</td>\n",
       "        <td>Human Resources</td>\n",
       "        <td>FDE</td>\n",
       "        <td>Workers Compensation</td>\n",
       "        <td>1</td>\n",
       "        <td>Salaries</td>\n",
       "        <td>1</td>\n",
       "        <td>Permanent Salaries-Misc</td>\n",
       "        <td>101</td>\n",
       "        <td>Misc-Regular</td>\n",
       "        <td>2S</td>\n",
       "        <td>Special Revenue Funds</td>\n",
       "        <td>2SGSF</td>\n",
       "        <td>General Services Fund</td>\n",
       "        <td>1.0</td>\n",
       "        <td>Operating</td>\n",
       "        <td>3547600.0</td>\n",
       "    </tr>\n",
       "    <tr>\n",
       "        <td>2016</td>\n",
       "        <td>Spending</td>\n",
       "        <td>No</td>\n",
       "        <td>5</td>\n",
       "        <td>Culture &amp; Recreation</td>\n",
       "        <td>REC</td>\n",
       "        <td>Recreation and Park Commission</td>\n",
       "        <td>EAP</td>\n",
       "        <td>Parks</td>\n",
       "        <td>13</td>\n",
       "        <td>Mandatory Fringe Benefits</td>\n",
       "        <td>14</td>\n",
       "        <td>Social Security</td>\n",
       "        <td>1402</td>\n",
       "        <td>Social Security - Medicare (HI Only)</td>\n",
       "        <td>1G</td>\n",
       "        <td>General Fund</td>\n",
       "        <td>1GAGF</td>\n",
       "        <td>General Fund</td>\n",
       "        <td>1.0</td>\n",
       "        <td>Operating</td>\n",
       "        <td>198703.0</td>\n",
       "    </tr>\n",
       "    <tr>\n",
       "        <td>2016</td>\n",
       "        <td>Spending</td>\n",
       "        <td>No</td>\n",
       "        <td>3</td>\n",
       "        <td>Human Welfare &amp; Neighborhood Development</td>\n",
       "        <td>ENV</td>\n",
       "        <td>Environment</td>\n",
       "        <td>CIG</td>\n",
       "        <td>Environment</td>\n",
       "        <td>21</td>\n",
       "        <td>Non Personnel Services</td>\n",
       "        <td>35</td>\n",
       "        <td>Other Current Expenses</td>\n",
       "        <td>3581</td>\n",
       "        <td>Advertising</td>\n",
       "        <td>2S</td>\n",
       "        <td>Special Revenue Funds</td>\n",
       "        <td>2SENV</td>\n",
       "        <td>Environmental Protection Program Fund</td>\n",
       "        <td>1.0</td>\n",
       "        <td>Operating</td>\n",
       "        <td>598.0</td>\n",
       "    </tr>\n",
       "</table>"
      ],
      "text/plain": [
       "[(2013, 'Spending', 'No', '6', 'General Administration & Finance', 'ASR', 'Assessor/Recorder', 'FDL', 'Technical Services', '21', 'Non Personnel Services', '31', 'Rents & Leases-Equipment', '3131', 'Office Machine Rental', '1G', 'General Fund', '1GAGF', 'General Fund', 1.0, 'Operating', 28840.0),\n",
       " (2015, 'Spending', 'No', '3', 'Human Welfare & Neighborhood Development', 'DSS', 'Human Services', 'XXX', 'No Program Defined', 'ELU', 'Transfer Adjustments-Uses', 'ELU', 'Transfer Adjustments-Uses', 'ELIMUD', 'Transfer Adjustments-Uses', '1G', 'General Fund', '1GAGF', 'General Fund', 1.0, 'Operating', -17045800.0),\n",
       " (2013, 'Spending', 'No', '6', 'General Administration & Finance', 'HRD', 'Human Resources', 'FDE', 'Workers Compensation', '1', 'Salaries', '1', 'Permanent Salaries-Misc', '101', 'Misc-Regular', '2S', 'Special Revenue Funds', '2SGSF', 'General Services Fund', 1.0, 'Operating', 3547600.0),\n",
       " (2016, 'Spending', 'No', '5', 'Culture & Recreation', 'REC', 'Recreation and Park Commission', 'EAP', 'Parks', '13', 'Mandatory Fringe Benefits', '14', 'Social Security', '1402', 'Social Security - Medicare (HI Only)', '1G', 'General Fund', '1GAGF', 'General Fund', 1.0, 'Operating', 198703.0),\n",
       " (2016, 'Spending', 'No', '3', 'Human Welfare & Neighborhood Development', 'ENV', 'Environment', 'CIG', 'Environment', '21', 'Non Personnel Services', '35', 'Other Current Expenses', '3581', 'Advertising', '2S', 'Special Revenue Funds', '2SENV', 'Environmental Protection Program Fund', 1.0, 'Operating', 598.0)]"
      ]
     },
     "execution_count": 61,
     "metadata": {},
     "output_type": "execute_result"
    }
   ],
   "source": [
    "%%sql\n",
    "SELECT * FROM budget_facts LIMIT 5;"
   ]
  },
  {
   "cell_type": "markdown",
   "metadata": {},
   "source": [
    "We decided to store the budget data in another facts table and remain all the dimension tables. To do this, first we need to check if there is new dimension values in the budget dataset, then we add the surrogate key of the budget facts and drop extra columns."
   ]
  },
  {
   "cell_type": "markdown",
   "metadata": {},
   "source": [
    "#### Junk Dimension"
   ]
  },
  {
   "cell_type": "markdown",
   "metadata": {},
   "source": [
    "Insert value into junk dimension table if not duplicate."
   ]
  },
  {
   "cell_type": "code",
   "execution_count": 62,
   "metadata": {},
   "outputs": [
    {
     "name": "stdout",
     "output_type": "stream",
     "text": [
      " * postgresql://student@/project4\n",
      "0 rows affected.\n"
     ]
    },
    {
     "data": {
      "text/plain": [
       "[]"
      ]
     },
     "execution_count": 62,
     "metadata": {},
     "output_type": "execute_result"
    }
   ],
   "source": [
    "%%sql\n",
    "INSERT INTO junk_dimension(revenue_or_spending,related_govt)\n",
    "SELECT DISTINCT t1.revenue_or_spending, t1.related_govt\n",
    "FROM budget_facts t1\n",
    "WHERE NOT EXISTS\n",
    "(SELECT revenue_or_spending,related_govt\n",
    "FROM junk_dimension t2\n",
    "WHERE t2.revenue_or_spending=t1.revenue_or_spending\n",
    "AND t2.related_govt=t1.related_govt)\n",
    ";"
   ]
  },
  {
   "cell_type": "markdown",
   "metadata": {},
   "source": [
    "Since the possible values for Revenue or Spending and Related govt. unit is the same for both our datasets, Seems like there is no new value in the junk_dimension and thus we have 0 rows affected."
   ]
  },
  {
   "cell_type": "markdown",
   "metadata": {},
   "source": [
    "add fk to budget_facts table and add a new column junk_dimension_key"
   ]
  },
  {
   "cell_type": "code",
   "execution_count": 63,
   "metadata": {},
   "outputs": [
    {
     "name": "stdout",
     "output_type": "stream",
     "text": [
      " * postgresql://student@/project4\n",
      "Done.\n"
     ]
    },
    {
     "data": {
      "text/plain": [
       "[]"
      ]
     },
     "execution_count": 63,
     "metadata": {},
     "output_type": "execute_result"
    }
   ],
   "source": [
    "%%sql\n",
    "ALTER TABLE budget_facts\n",
    "ADD COLUMN junk_dimension_key INTEGER,\n",
    "ADD CONSTRAINT fk_junk_dimension_key\n",
    "    FOREIGN KEY (junk_dimension_key)\n",
    "    REFERENCES junk_dimension (junk_dimension_key);"
   ]
  },
  {
   "cell_type": "code",
   "execution_count": 68,
   "metadata": {},
   "outputs": [
    {
     "name": "stdout",
     "output_type": "stream",
     "text": [
      " * postgresql://student@/project4\n",
      "139970 rows affected.\n"
     ]
    },
    {
     "data": {
      "text/plain": [
       "[]"
      ]
     },
     "execution_count": 68,
     "metadata": {},
     "output_type": "execute_result"
    }
   ],
   "source": [
    "%%sql\n",
    "UPDATE budget_facts\n",
    "SET junk_dimension_key = junk_dimension.junk_dimension_key\n",
    "FROM junk_dimension\n",
    "WHERE junk_dimension.revenue_or_spending= budget_facts.revenue_or_spending\n",
    "    AND junk_dimension.related_govt = budget_facts.related_govt "
   ]
  },
  {
   "cell_type": "code",
   "execution_count": 69,
   "metadata": {},
   "outputs": [
    {
     "name": "stdout",
     "output_type": "stream",
     "text": [
      " * postgresql://student@/project4\n",
      "10 rows affected.\n"
     ]
    },
    {
     "data": {
      "text/html": [
       "<table>\n",
       "    <tr>\n",
       "        <th>junk_dimension_key</th>\n",
       "    </tr>\n",
       "    <tr>\n",
       "        <td>3</td>\n",
       "    </tr>\n",
       "    <tr>\n",
       "        <td>3</td>\n",
       "    </tr>\n",
       "    <tr>\n",
       "        <td>3</td>\n",
       "    </tr>\n",
       "    <tr>\n",
       "        <td>3</td>\n",
       "    </tr>\n",
       "    <tr>\n",
       "        <td>3</td>\n",
       "    </tr>\n",
       "    <tr>\n",
       "        <td>3</td>\n",
       "    </tr>\n",
       "    <tr>\n",
       "        <td>3</td>\n",
       "    </tr>\n",
       "    <tr>\n",
       "        <td>3</td>\n",
       "    </tr>\n",
       "    <tr>\n",
       "        <td>3</td>\n",
       "    </tr>\n",
       "    <tr>\n",
       "        <td>3</td>\n",
       "    </tr>\n",
       "</table>"
      ],
      "text/plain": [
       "[(3,), (3,), (3,), (3,), (3,), (3,), (3,), (3,), (3,), (3,)]"
      ]
     },
     "execution_count": 69,
     "metadata": {},
     "output_type": "execute_result"
    }
   ],
   "source": [
    "%%sql\n",
    "SELECT junk_dimension_key FROM budget_facts LIMIT 10;"
   ]
  },
  {
   "cell_type": "markdown",
   "metadata": {},
   "source": [
    "#### Fund Dimension"
   ]
  },
  {
   "cell_type": "markdown",
   "metadata": {},
   "source": [
    "Insert value into fund dimension table if not duplicate."
   ]
  },
  {
   "cell_type": "code",
   "execution_count": 70,
   "metadata": {},
   "outputs": [
    {
     "name": "stdout",
     "output_type": "stream",
     "text": [
      " * postgresql://student@/project4\n",
      "0 rows affected.\n"
     ]
    },
    {
     "data": {
      "text/plain": [
       "[]"
      ]
     },
     "execution_count": 70,
     "metadata": {},
     "output_type": "execute_result"
    }
   ],
   "source": [
    "%%sql\n",
    "INSERT INTO fund(fund_type_code,fund_type,fund_code,\n",
    "    fund,fund_category_code,fund_category)\n",
    "SELECT DISTINCT t1.fund_type_code,t1.fund_type, t1.fund_code,\n",
    "    t1.fund, t1.fund_category_code, t1.fund_category\n",
    "FROM budget_facts t1\n",
    "WHERE NOT EXISTS\n",
    "(SELECT fund_type_code,fund_type,fund_code,\n",
    "    fund,fund_category_code,fund_category\n",
    "FROM fund t2\n",
    "WHERE t2.fund_type_code=t1.fund_type_code\n",
    "AND t2.fund_type=t1.fund_type\n",
    "AND t2.fund_code=t1.fund_code\n",
    "AND t2.fund=t1.fund\n",
    "AND t2.fund_category_code=t1.fund_category_code\n",
    "AND t2.fund_category=t1.fund_category)\n",
    ";"
   ]
  },
  {
   "cell_type": "markdown",
   "metadata": {},
   "source": [
    "add fk to budget_facts table and add a new column fund_key"
   ]
  },
  {
   "cell_type": "code",
   "execution_count": 71,
   "metadata": {},
   "outputs": [
    {
     "name": "stdout",
     "output_type": "stream",
     "text": [
      " * postgresql://student@/project4\n",
      "(psycopg2.ProgrammingError) column \"fund_key\" of relation \"budget_facts\" already exists\n",
      " [SQL: 'ALTER TABLE budget_facts\\nADD COLUMN fund_key INTEGER,\\nADD CONSTRAINT fk_fund_key\\n    FOREIGN KEY (fund_key)\\n    REFERENCES fund (fund_key);'] (Background on this error at: http://sqlalche.me/e/f405)\n"
     ]
    }
   ],
   "source": [
    "%%sql\n",
    "ALTER TABLE budget_facts\n",
    "ADD COLUMN fund_key INTEGER,\n",
    "ADD CONSTRAINT fk_fund_key\n",
    "    FOREIGN KEY (fund_key)\n",
    "    REFERENCES fund (fund_key);"
   ]
  },
  {
   "cell_type": "code",
   "execution_count": 72,
   "metadata": {},
   "outputs": [
    {
     "name": "stdout",
     "output_type": "stream",
     "text": [
      " * postgresql://student@/project4\n",
      "139970 rows affected.\n"
     ]
    },
    {
     "data": {
      "text/plain": [
       "[]"
      ]
     },
     "execution_count": 72,
     "metadata": {},
     "output_type": "execute_result"
    }
   ],
   "source": [
    "%%sql\n",
    "UPDATE budget_facts\n",
    "SET fund_key = fund.fund_key\n",
    "FROM fund\n",
    "WHERE budget_facts.fund_type_code = fund.fund_type_code\n",
    "    AND budget_facts.fund_category_code = fund.fund_category_code\n",
    "    AND budget_facts.fund_code = fund.fund_code;"
   ]
  },
  {
   "cell_type": "code",
   "execution_count": 73,
   "metadata": {},
   "outputs": [
    {
     "name": "stdout",
     "output_type": "stream",
     "text": [
      " * postgresql://student@/project4\n",
      "10 rows affected.\n"
     ]
    },
    {
     "data": {
      "text/html": [
       "<table>\n",
       "    <tr>\n",
       "        <th>fund_key</th>\n",
       "    </tr>\n",
       "    <tr>\n",
       "        <td>3</td>\n",
       "    </tr>\n",
       "    <tr>\n",
       "        <td>38</td>\n",
       "    </tr>\n",
       "    <tr>\n",
       "        <td>1</td>\n",
       "    </tr>\n",
       "    <tr>\n",
       "        <td>1</td>\n",
       "    </tr>\n",
       "    <tr>\n",
       "        <td>1</td>\n",
       "    </tr>\n",
       "    <tr>\n",
       "        <td>1</td>\n",
       "    </tr>\n",
       "    <tr>\n",
       "        <td>2</td>\n",
       "    </tr>\n",
       "    <tr>\n",
       "        <td>3</td>\n",
       "    </tr>\n",
       "    <tr>\n",
       "        <td>1</td>\n",
       "    </tr>\n",
       "    <tr>\n",
       "        <td>1</td>\n",
       "    </tr>\n",
       "</table>"
      ],
      "text/plain": [
       "[(3,), (38,), (1,), (1,), (1,), (1,), (2,), (3,), (1,), (1,)]"
      ]
     },
     "execution_count": 73,
     "metadata": {},
     "output_type": "execute_result"
    }
   ],
   "source": [
    "%%sql\n",
    "SELECT fund_key FROM budget_facts LIMIT 10;"
   ]
  },
  {
   "cell_type": "markdown",
   "metadata": {},
   "source": [
    "#### Year Dimension"
   ]
  },
  {
   "cell_type": "markdown",
   "metadata": {},
   "source": [
    "Insert value into year dimension table if not duplicate."
   ]
  },
  {
   "cell_type": "code",
   "execution_count": 74,
   "metadata": {},
   "outputs": [
    {
     "name": "stdout",
     "output_type": "stream",
     "text": [
      " * postgresql://student@/project4\n",
      "2 rows affected.\n"
     ]
    },
    {
     "data": {
      "text/plain": [
       "[]"
      ]
     },
     "execution_count": 74,
     "metadata": {},
     "output_type": "execute_result"
    }
   ],
   "source": [
    "%%sql\n",
    "INSERT INTO year(fiscal_year)\n",
    "SELECT DISTINCT t1.fiscal_year\n",
    "FROM budget_facts t1\n",
    "WHERE NOT EXISTS\n",
    "(SELECT fiscal_year\n",
    "FROM year t2\n",
    "WHERE t2.fiscal_year=t1.fiscal_year)\n",
    ";"
   ]
  },
  {
   "cell_type": "markdown",
   "metadata": {},
   "source": [
    "Seems that we have two more year data in the budget facts."
   ]
  },
  {
   "cell_type": "markdown",
   "metadata": {},
   "source": [
    "add fk to budget_facts table and add a new column year_key"
   ]
  },
  {
   "cell_type": "code",
   "execution_count": 75,
   "metadata": {},
   "outputs": [
    {
     "name": "stdout",
     "output_type": "stream",
     "text": [
      " * postgresql://student@/project4\n",
      "Done.\n"
     ]
    },
    {
     "data": {
      "text/plain": [
       "[]"
      ]
     },
     "execution_count": 75,
     "metadata": {},
     "output_type": "execute_result"
    }
   ],
   "source": [
    "%%sql\n",
    "ALTER TABLE budget_facts\n",
    "ADD COLUMN year_key INTEGER,\n",
    "ADD CONSTRAINT fk_year_key\n",
    "    FOREIGN KEY (year_key)\n",
    "    REFERENCES year (year_key);"
   ]
  },
  {
   "cell_type": "code",
   "execution_count": 76,
   "metadata": {},
   "outputs": [
    {
     "name": "stdout",
     "output_type": "stream",
     "text": [
      " * postgresql://student@/project4\n",
      "139970 rows affected.\n"
     ]
    },
    {
     "data": {
      "text/plain": [
       "[]"
      ]
     },
     "execution_count": 76,
     "metadata": {},
     "output_type": "execute_result"
    }
   ],
   "source": [
    "%%sql\n",
    "UPDATE budget_facts\n",
    "SET year_key = year.year_key\n",
    "FROM year\n",
    "WHERE budget_facts.fiscal_year = year.fiscal_year"
   ]
  },
  {
   "cell_type": "code",
   "execution_count": 77,
   "metadata": {},
   "outputs": [
    {
     "name": "stdout",
     "output_type": "stream",
     "text": [
      " * postgresql://student@/project4\n",
      "10 rows affected.\n"
     ]
    },
    {
     "data": {
      "text/html": [
       "<table>\n",
       "    <tr>\n",
       "        <th>year_key</th>\n",
       "    </tr>\n",
       "    <tr>\n",
       "        <td>11</td>\n",
       "    </tr>\n",
       "    <tr>\n",
       "        <td>16</td>\n",
       "    </tr>\n",
       "    <tr>\n",
       "        <td>15</td>\n",
       "    </tr>\n",
       "    <tr>\n",
       "        <td>13</td>\n",
       "    </tr>\n",
       "    <tr>\n",
       "        <td>7</td>\n",
       "    </tr>\n",
       "    <tr>\n",
       "        <td>13</td>\n",
       "    </tr>\n",
       "    <tr>\n",
       "        <td>18</td>\n",
       "    </tr>\n",
       "    <tr>\n",
       "        <td>16</td>\n",
       "    </tr>\n",
       "    <tr>\n",
       "        <td>16</td>\n",
       "    </tr>\n",
       "    <tr>\n",
       "        <td>18</td>\n",
       "    </tr>\n",
       "</table>"
      ],
      "text/plain": [
       "[(11,), (16,), (15,), (13,), (7,), (13,), (18,), (16,), (16,), (18,)]"
      ]
     },
     "execution_count": 77,
     "metadata": {},
     "output_type": "execute_result"
    }
   ],
   "source": [
    "%%sql\n",
    "SELECT year_key FROM budget_facts LIMIT 10;"
   ]
  },
  {
   "cell_type": "markdown",
   "metadata": {},
   "source": [
    "#### Entity Dimension"
   ]
  },
  {
   "cell_type": "markdown",
   "metadata": {},
   "source": [
    "Insert value into entity dimension table if not duplicate."
   ]
  },
  {
   "cell_type": "code",
   "execution_count": 78,
   "metadata": {},
   "outputs": [
    {
     "name": "stdout",
     "output_type": "stream",
     "text": [
      " * postgresql://student@/project4\n",
      "482 rows affected.\n"
     ]
    },
    {
     "data": {
      "text/plain": [
       "[]"
      ]
     },
     "execution_count": 78,
     "metadata": {},
     "output_type": "execute_result"
    }
   ],
   "source": [
    "%%sql\n",
    "INSERT INTO entity (org_group_code,org_group,dept_code,\n",
    "    dept,program_code,program)\n",
    "SELECT DISTINCT t1.org_group_code, t1.org_group,t1.dept_code,\n",
    "    t1.dept,t1.program_code,t1.program\n",
    "FROM budget_facts t1\n",
    "WHERE NOT EXISTS\n",
    "(SELECT org_group_code,org_group,dept_code,\n",
    "    dept,program_code,program\n",
    "FROM entity t2\n",
    "WHERE t2.org_group_code = t1.org_group_code\n",
    "AND t2.org_group = t1.org_group\n",
    "AND t2.dept_code = t1.dept_code\n",
    "AND t2.dept = t1.dept\n",
    "AND t2.program_code = t1.program_code\n",
    "AND t2.program = t1.program)\n",
    ";"
   ]
  },
  {
   "cell_type": "markdown",
   "metadata": {},
   "source": [
    "Looks like there are 482 new entities in the budget facts tables."
   ]
  },
  {
   "cell_type": "code",
   "execution_count": 79,
   "metadata": {},
   "outputs": [
    {
     "name": "stdout",
     "output_type": "stream",
     "text": [
      " * postgresql://student@/project4\n",
      "Done.\n"
     ]
    },
    {
     "data": {
      "text/plain": [
       "[]"
      ]
     },
     "execution_count": 79,
     "metadata": {},
     "output_type": "execute_result"
    }
   ],
   "source": [
    "%%sql\n",
    "ALTER TABLE budget_facts\n",
    "ADD COLUMN entity_key INTEGER,\n",
    "ADD CONSTRAINT fk_entity_key\n",
    "    FOREIGN KEY (entity_key)\n",
    "    REFERENCES entity (entity_key);"
   ]
  },
  {
   "cell_type": "code",
   "execution_count": 80,
   "metadata": {},
   "outputs": [
    {
     "name": "stdout",
     "output_type": "stream",
     "text": [
      " * postgresql://student@/project4\n",
      "139970 rows affected.\n"
     ]
    },
    {
     "data": {
      "text/plain": [
       "[]"
      ]
     },
     "execution_count": 80,
     "metadata": {},
     "output_type": "execute_result"
    }
   ],
   "source": [
    "%%sql\n",
    "UPDATE budget_facts\n",
    "SET entity_key = entity.entity_key\n",
    "FROM entity\n",
    "WHERE budget_facts.org_group_code = entity.org_group_code\n",
    "    AND budget_facts.dept_code = entity.dept_code\n",
    "    AND budget_facts.program_code = entity.program_code;"
   ]
  },
  {
   "cell_type": "code",
   "execution_count": 81,
   "metadata": {},
   "outputs": [
    {
     "name": "stdout",
     "output_type": "stream",
     "text": [
      " * postgresql://student@/project4\n",
      "10 rows affected.\n"
     ]
    },
    {
     "data": {
      "text/html": [
       "<table>\n",
       "    <tr>\n",
       "        <th>entity_key</th>\n",
       "    </tr>\n",
       "    <tr>\n",
       "        <td>93</td>\n",
       "    </tr>\n",
       "    <tr>\n",
       "        <td>408</td>\n",
       "    </tr>\n",
       "    <tr>\n",
       "        <td>472</td>\n",
       "    </tr>\n",
       "    <tr>\n",
       "        <td>472</td>\n",
       "    </tr>\n",
       "    <tr>\n",
       "        <td>490</td>\n",
       "    </tr>\n",
       "    <tr>\n",
       "        <td>492</td>\n",
       "    </tr>\n",
       "    <tr>\n",
       "        <td>521</td>\n",
       "    </tr>\n",
       "    <tr>\n",
       "        <td>523</td>\n",
       "    </tr>\n",
       "    <tr>\n",
       "        <td>531</td>\n",
       "    </tr>\n",
       "    <tr>\n",
       "        <td>775</td>\n",
       "    </tr>\n",
       "</table>"
      ],
      "text/plain": [
       "[(93,), (408,), (472,), (472,), (490,), (492,), (521,), (523,), (531,), (775,)]"
      ]
     },
     "execution_count": 81,
     "metadata": {},
     "output_type": "execute_result"
    }
   ],
   "source": [
    "%%sql\n",
    "SELECT entity_key FROM transaction_facts LIMIT 10;"
   ]
  },
  {
   "cell_type": "markdown",
   "metadata": {},
   "source": [
    "#### Nature Dimension"
   ]
  },
  {
   "cell_type": "markdown",
   "metadata": {},
   "source": [
    "Insert value into nature dimension table if not duplicate."
   ]
  },
  {
   "cell_type": "code",
   "execution_count": 82,
   "metadata": {},
   "outputs": [
    {
     "name": "stdout",
     "output_type": "stream",
     "text": [
      " * postgresql://student@/project4\n",
      "1392 rows affected.\n"
     ]
    },
    {
     "data": {
      "text/plain": [
       "[]"
      ]
     },
     "execution_count": 82,
     "metadata": {},
     "output_type": "execute_result"
    }
   ],
   "source": [
    "%%sql\n",
    "INSERT INTO nature (character_code, character,obj_code,\n",
    "                    obj,sub_obj_code,sub_obj)\n",
    "SELECT DISTINCT t1.character_code, t1.character,t1.obj_code,\n",
    "                t1.obj, t1.sub_obj_code, t1.sub_obj\n",
    "FROM budget_facts t1\n",
    "WHERE NOT EXISTS\n",
    "(SELECT character_code, character,obj_code,\n",
    "        obj,sub_obj_code,sub_obj\n",
    "FROM nature t2\n",
    "WHERE t2.character_code= t1.character_code\n",
    "AND t2.character = t1.character\n",
    "AND t2.obj_code = t1.obj_code\n",
    "AND t2.obj = t1.obj\n",
    "AND t2.sub_obj_code = t1.sub_obj_code\n",
    "AND t2.sub_obj = t1.sub_obj)\n",
    ";"
   ]
  },
  {
   "cell_type": "markdown",
   "metadata": {},
   "source": [
    "Looks like there are 1392 new natures in the budget facts tables."
   ]
  },
  {
   "cell_type": "code",
   "execution_count": 83,
   "metadata": {},
   "outputs": [
    {
     "name": "stdout",
     "output_type": "stream",
     "text": [
      " * postgresql://student@/project4\n",
      "Done.\n"
     ]
    },
    {
     "data": {
      "text/plain": [
       "[]"
      ]
     },
     "execution_count": 83,
     "metadata": {},
     "output_type": "execute_result"
    }
   ],
   "source": [
    "%%sql\n",
    "ALTER TABLE budget_facts\n",
    "ADD COLUMN nature_key INTEGER,\n",
    "ADD CONSTRAINT fk_nature_key\n",
    "    FOREIGN KEY (nature_key)\n",
    "    REFERENCES nature (nature_key);"
   ]
  },
  {
   "cell_type": "code",
   "execution_count": 84,
   "metadata": {},
   "outputs": [
    {
     "name": "stdout",
     "output_type": "stream",
     "text": [
      " * postgresql://student@/project4\n",
      "139970 rows affected.\n"
     ]
    },
    {
     "data": {
      "text/plain": [
       "[]"
      ]
     },
     "execution_count": 84,
     "metadata": {},
     "output_type": "execute_result"
    }
   ],
   "source": [
    "%%sql\n",
    "UPDATE budget_facts\n",
    "SET nature_key = nature.nature_key\n",
    "FROM nature\n",
    "WHERE budget_facts.character_code = nature.character_code\n",
    "    AND budget_facts.obj_code = nature. obj_code\n",
    "    AND budget_facts.sub_obj_code = nature.sub_obj_code;"
   ]
  },
  {
   "cell_type": "code",
   "execution_count": 85,
   "metadata": {},
   "outputs": [
    {
     "name": "stdout",
     "output_type": "stream",
     "text": [
      " * postgresql://student@/project4\n",
      "10 rows affected.\n"
     ]
    },
    {
     "data": {
      "text/html": [
       "<table>\n",
       "    <tr>\n",
       "        <th>nature_key</th>\n",
       "    </tr>\n",
       "    <tr>\n",
       "        <td>2725</td>\n",
       "    </tr>\n",
       "    <tr>\n",
       "        <td>3858</td>\n",
       "    </tr>\n",
       "    <tr>\n",
       "        <td>3350</td>\n",
       "    </tr>\n",
       "    <tr>\n",
       "        <td>3074</td>\n",
       "    </tr>\n",
       "    <tr>\n",
       "        <td>2589</td>\n",
       "    </tr>\n",
       "    <tr>\n",
       "        <td>2305</td>\n",
       "    </tr>\n",
       "    <tr>\n",
       "        <td>3858</td>\n",
       "    </tr>\n",
       "    <tr>\n",
       "        <td>3350</td>\n",
       "    </tr>\n",
       "    <tr>\n",
       "        <td>3420</td>\n",
       "    </tr>\n",
       "    <tr>\n",
       "        <td>3858</td>\n",
       "    </tr>\n",
       "</table>"
      ],
      "text/plain": [
       "[(2725,),\n",
       " (3858,),\n",
       " (3350,),\n",
       " (3074,),\n",
       " (2589,),\n",
       " (2305,),\n",
       " (3858,),\n",
       " (3350,),\n",
       " (3420,),\n",
       " (3858,)]"
      ]
     },
     "execution_count": 85,
     "metadata": {},
     "output_type": "execute_result"
    }
   ],
   "source": [
    "%%sql\n",
    "SELECT nature_key FROM budget_facts LIMIT 10;"
   ]
  },
  {
   "cell_type": "markdown",
   "metadata": {},
   "source": [
    "we can remove the unneccesary columns from our fact table and keep only amount and the surrogate keys of the 4 dimensions tables"
   ]
  },
  {
   "cell_type": "code",
   "execution_count": 86,
   "metadata": {},
   "outputs": [
    {
     "name": "stdout",
     "output_type": "stream",
     "text": [
      " * postgresql://student@/project4\n",
      "Done.\n"
     ]
    },
    {
     "data": {
      "text/plain": [
       "[]"
      ]
     },
     "execution_count": 86,
     "metadata": {},
     "output_type": "execute_result"
    }
   ],
   "source": [
    "%%sql\n",
    "ALTER TABLE budget_facts\n",
    "\n",
    "DROP COLUMN fiscal_year,\n",
    "DROP COLUMN revenue_or_spending,\n",
    "DROP COLUMN related_govt,\n",
    "DROP COLUMN org_group_code,\n",
    "DROP COLUMN org_group,\n",
    "DROP COLUMN dept_code,\n",
    "DROP COLUMN dept,\n",
    "DROP COLUMN program_code,\n",
    "DROP COLUMN program,\n",
    "DROP COLUMN character_code,\n",
    "DROP COLUMN character,\n",
    "DROP COLUMN obj_code,\n",
    "DROP COLUMN obj,\n",
    "DROP COLUMN sub_obj_code,\n",
    "DROP COLUMN sub_obj,\n",
    "DROP COLUMN fund_type_code,\n",
    "DROP COLUMN fund_type,\n",
    "DROP COLUMN fund_code,\n",
    "DROP COLUMN fund,\n",
    "DROP COLUMN fund_category_code,\n",
    "DROP COLUMN fund_category;\n"
   ]
  },
  {
   "cell_type": "code",
   "execution_count": 87,
   "metadata": {},
   "outputs": [
    {
     "name": "stdout",
     "output_type": "stream",
     "text": [
      " * postgresql://student@/project4\n",
      "10 rows affected.\n"
     ]
    },
    {
     "data": {
      "text/html": [
       "<table>\n",
       "    <tr>\n",
       "        <th>amount</th>\n",
       "        <th>junk_dimension_key</th>\n",
       "        <th>fund_key</th>\n",
       "        <th>year_key</th>\n",
       "        <th>entity_key</th>\n",
       "        <th>nature_key</th>\n",
       "    </tr>\n",
       "    <tr>\n",
       "        <td>6800420.0</td>\n",
       "        <td>3</td>\n",
       "        <td>3</td>\n",
       "        <td>16</td>\n",
       "        <td>1274</td>\n",
       "        <td>3858</td>\n",
       "    </tr>\n",
       "    <tr>\n",
       "        <td>6035220.0</td>\n",
       "        <td>3</td>\n",
       "        <td>1</td>\n",
       "        <td>16</td>\n",
       "        <td>786</td>\n",
       "        <td>3391</td>\n",
       "    </tr>\n",
       "    <tr>\n",
       "        <td>1650000.0</td>\n",
       "        <td>3</td>\n",
       "        <td>1</td>\n",
       "        <td>18</td>\n",
       "        <td>893</td>\n",
       "        <td>3350</td>\n",
       "    </tr>\n",
       "    <tr>\n",
       "        <td>32438900.0</td>\n",
       "        <td>3</td>\n",
       "        <td>1</td>\n",
       "        <td>13</td>\n",
       "        <td>1224</td>\n",
       "        <td>3858</td>\n",
       "    </tr>\n",
       "    <tr>\n",
       "        <td>1000000.0</td>\n",
       "        <td>3</td>\n",
       "        <td>1</td>\n",
       "        <td>11</td>\n",
       "        <td>72</td>\n",
       "        <td>3258</td>\n",
       "    </tr>\n",
       "    <tr>\n",
       "        <td>30000.0</td>\n",
       "        <td>3</td>\n",
       "        <td>1</td>\n",
       "        <td>19</td>\n",
       "        <td>72</td>\n",
       "        <td>3254</td>\n",
       "    </tr>\n",
       "    <tr>\n",
       "        <td>903412.0</td>\n",
       "        <td>3</td>\n",
       "        <td>1</td>\n",
       "        <td>16</td>\n",
       "        <td>789</td>\n",
       "        <td>3373</td>\n",
       "    </tr>\n",
       "    <tr>\n",
       "        <td>2488000.0</td>\n",
       "        <td>3</td>\n",
       "        <td>1</td>\n",
       "        <td>13</td>\n",
       "        <td>888</td>\n",
       "        <td>3339</td>\n",
       "    </tr>\n",
       "    <tr>\n",
       "        <td>660089.0</td>\n",
       "        <td>3</td>\n",
       "        <td>1</td>\n",
       "        <td>11</td>\n",
       "        <td>1029</td>\n",
       "        <td>2378</td>\n",
       "    </tr>\n",
       "    <tr>\n",
       "        <td>10000.0</td>\n",
       "        <td>3</td>\n",
       "        <td>1</td>\n",
       "        <td>13</td>\n",
       "        <td>8</td>\n",
       "        <td>3160</td>\n",
       "    </tr>\n",
       "</table>"
      ],
      "text/plain": [
       "[(6800420.0, 3, 3, 16, 1274, 3858),\n",
       " (6035220.0, 3, 1, 16, 786, 3391),\n",
       " (1650000.0, 3, 1, 18, 893, 3350),\n",
       " (32438900.0, 3, 1, 13, 1224, 3858),\n",
       " (1000000.0, 3, 1, 11, 72, 3258),\n",
       " (30000.0, 3, 1, 19, 72, 3254),\n",
       " (903412.0, 3, 1, 16, 789, 3373),\n",
       " (2488000.0, 3, 1, 13, 888, 3339),\n",
       " (660089.0, 3, 1, 11, 1029, 2378),\n",
       " (10000.0, 3, 1, 13, 8, 3160)]"
      ]
     },
     "execution_count": 87,
     "metadata": {},
     "output_type": "execute_result"
    }
   ],
   "source": [
    "%%sql\n",
    "select * from budget_facts limit 10;"
   ]
  },
  {
   "cell_type": "markdown",
   "metadata": {},
   "source": [
    "Till now we have added our budget facts."
   ]
  },
  {
   "cell_type": "markdown",
   "metadata": {},
   "source": [
    "### Some explorations on the additional data source\n"
   ]
  },
  {
   "cell_type": "markdown",
   "metadata": {},
   "source": [
    "Each query takes at least 10 mins, be careful to execute!"
   ]
  },
  {
   "cell_type": "markdown",
   "metadata": {},
   "source": [
    "First, we want to know each year's budget and actual amount of spending and revenue and see if they're in similar trend."
   ]
  },
  {
   "cell_type": "code",
   "execution_count": 98,
   "metadata": {},
   "outputs": [
    {
     "name": "stdout",
     "output_type": "stream",
     "text": [
      " * postgresql://student@/project4\n",
      "8 rows affected.\n"
     ]
    },
    {
     "data": {
      "text/html": [
       "<table>\n",
       "    <tr>\n",
       "        <th>fiscal_year</th>\n",
       "        <th>total_rs</th>\n",
       "        <th>total_bud</th>\n",
       "    </tr>\n",
       "    <tr>\n",
       "        <td>2010</td>\n",
       "        <td>221893000000000.0</td>\n",
       "        <td>297840000000000.0</td>\n",
       "    </tr>\n",
       "    <tr>\n",
       "        <td>2011</td>\n",
       "        <td>222761000000000.0</td>\n",
       "        <td>296146000000000.0</td>\n",
       "    </tr>\n",
       "    <tr>\n",
       "        <td>2012</td>\n",
       "        <td>245842000000000.0</td>\n",
       "        <td>307410000000000.0</td>\n",
       "    </tr>\n",
       "    <tr>\n",
       "        <td>2013</td>\n",
       "        <td>263137000000000.0</td>\n",
       "        <td>344009000000000.0</td>\n",
       "    </tr>\n",
       "    <tr>\n",
       "        <td>2014</td>\n",
       "        <td>275486000000000.0</td>\n",
       "        <td>369664000000000.0</td>\n",
       "    </tr>\n",
       "    <tr>\n",
       "        <td>2015</td>\n",
       "        <td>281359000000000.0</td>\n",
       "        <td>394185000000000.0</td>\n",
       "    </tr>\n",
       "    <tr>\n",
       "        <td>2016</td>\n",
       "        <td>301981000000000.0</td>\n",
       "        <td>420298000000000.0</td>\n",
       "    </tr>\n",
       "    <tr>\n",
       "        <td>2017</td>\n",
       "        <td>314051000000000.0</td>\n",
       "        <td>457073000000000.0</td>\n",
       "    </tr>\n",
       "</table>"
      ],
      "text/plain": [
       "[(2010, 221893000000000.0, 297840000000000.0),\n",
       " (2011, 222761000000000.0, 296146000000000.0),\n",
       " (2012, 245842000000000.0, 307410000000000.0),\n",
       " (2013, 263137000000000.0, 344009000000000.0),\n",
       " (2014, 275486000000000.0, 369664000000000.0),\n",
       " (2015, 281359000000000.0, 394185000000000.0),\n",
       " (2016, 301981000000000.0, 420298000000000.0),\n",
       " (2017, 314051000000000.0, 457073000000000.0)]"
      ]
     },
     "execution_count": 98,
     "metadata": {},
     "output_type": "execute_result"
    }
   ],
   "source": [
    "%%sql\n",
    "SELECT Fiscal_year, SUM(transaction_facts.amount) Total_rs, SUM(budget_facts.amount) Total_bud\n",
    "FROM transaction_facts\n",
    "JOIN Year\n",
    "  ON transaction_facts.year_key = Year.year_key\n",
    "JOIN budget_facts\n",
    "  ON budget_facts.year_key = Year.year_key\n",
    "GROUP BY Fiscal_year\n",
    "ORDER BY Fiscal_year;"
   ]
  },
  {
   "cell_type": "markdown",
   "metadata": {},
   "source": [
    "The total budget is higher than actual amount over years and both grows in steady pace.  "
   ]
  },
  {
   "cell_type": "markdown",
   "metadata": {},
   "source": [
    "Then we want to figure out the yearly spending difference between bugdet and actual amount. "
   ]
  },
  {
   "cell_type": "code",
   "execution_count": 99,
   "metadata": {},
   "outputs": [
    {
     "name": "stdout",
     "output_type": "stream",
     "text": [
      " * postgresql://student@/project4\n",
      "8 rows affected.\n"
     ]
    },
    {
     "data": {
      "text/html": [
       "<table>\n",
       "    <tr>\n",
       "        <th>fiscal_year</th>\n",
       "        <th>diff</th>\n",
       "    </tr>\n",
       "    <tr>\n",
       "        <td>2010</td>\n",
       "        <td>161586000000000.0</td>\n",
       "    </tr>\n",
       "    <tr>\n",
       "        <td>2011</td>\n",
       "        <td>151452000000000.0</td>\n",
       "    </tr>\n",
       "    <tr>\n",
       "        <td>2012</td>\n",
       "        <td>155146000000000.0</td>\n",
       "    </tr>\n",
       "    <tr>\n",
       "        <td>2013</td>\n",
       "        <td>176769000000000.0</td>\n",
       "    </tr>\n",
       "    <tr>\n",
       "        <td>2014</td>\n",
       "        <td>187709000000000.0</td>\n",
       "    </tr>\n",
       "    <tr>\n",
       "        <td>2015</td>\n",
       "        <td>209574000000000.0</td>\n",
       "    </tr>\n",
       "    <tr>\n",
       "        <td>2016</td>\n",
       "        <td>220315000000000.0</td>\n",
       "    </tr>\n",
       "    <tr>\n",
       "        <td>2017</td>\n",
       "        <td>248811000000000.0</td>\n",
       "    </tr>\n",
       "</table>"
      ],
      "text/plain": [
       "[(2010, 161586000000000.0),\n",
       " (2011, 151452000000000.0),\n",
       " (2012, 155146000000000.0),\n",
       " (2013, 176769000000000.0),\n",
       " (2014, 187709000000000.0),\n",
       " (2015, 209574000000000.0),\n",
       " (2016, 220315000000000.0),\n",
       " (2017, 248811000000000.0)]"
      ]
     },
     "execution_count": 99,
     "metadata": {},
     "output_type": "execute_result"
    }
   ],
   "source": [
    "%%sql\n",
    "SELECT Fiscal_year, (SUM(budget_facts.amount)-SUM(transaction_facts.amount)) Diff\n",
    "FROM transaction_facts\n",
    "JOIN Year\n",
    "  ON transaction_facts.year_key = Year.year_key\n",
    "JOIN budget_facts\n",
    "  ON budget_facts.year_key = Year.year_key\n",
    "JOIN junk_dimension\n",
    "  ON transaction_facts.junk_dimension_key=junk_dimension.junk_dimension_key\n",
    "WHERE junk_dimension.revenue_or_spending = 'Spending'\n",
    "GROUP BY Fiscal_year\n",
    "ORDER BY Fiscal_year;"
   ]
  },
  {
   "cell_type": "code",
   "execution_count": 100,
   "metadata": {},
   "outputs": [
    {
     "data": {
      "text/plain": [
       "<BarContainer object of 8 artists>"
      ]
     },
     "execution_count": 100,
     "metadata": {},
     "output_type": "execute_result"
    },
    {
     "data": {
      "image/png": "[encoded data removed]",
      "text/plain": [
       "<Figure size 432x288 with 1 Axes>"
      ]
     },
     "metadata": {
      "needs_background": "light"
     },
     "output_type": "display_data"
    }
   ],
   "source": [
    "_.bar()"
   ]
  },
  {
   "cell_type": "markdown",
   "metadata": {},
   "source": [
    "The difference between the budget spending and actual spending is huge and increases by year. This means there's a budget surplus which means yearly budget is higher than actual spending and revenue. "
   ]
  },
  {
   "cell_type": "markdown",
   "metadata": {},
   "source": [
    "Next we focus on the yearly revenue difference between budget and actual amount. "
   ]
  },
  {
   "cell_type": "code",
   "execution_count": 88,
   "metadata": {},
   "outputs": [
    {
     "name": "stdout",
     "output_type": "stream",
     "text": [
      " * postgresql://student@/project4\n",
      "8 rows affected.\n"
     ]
    },
    {
     "data": {
      "text/html": [
       "<table>\n",
       "    <tr>\n",
       "        <th>fiscal_year</th>\n",
       "        <th>diff</th>\n",
       "    </tr>\n",
       "    <tr>\n",
       "        <td>2010</td>\n",
       "        <td>88325300000000.0</td>\n",
       "    </tr>\n",
       "    <tr>\n",
       "        <td>2011</td>\n",
       "        <td>83084400000000.0</td>\n",
       "    </tr>\n",
       "    <tr>\n",
       "        <td>2012</td>\n",
       "        <td>97209800000000.0</td>\n",
       "    </tr>\n",
       "    <tr>\n",
       "        <td>2013</td>\n",
       "        <td>97082900000000.0</td>\n",
       "    </tr>\n",
       "    <tr>\n",
       "        <td>2014</td>\n",
       "        <td>92492500000000.0</td>\n",
       "    </tr>\n",
       "    <tr>\n",
       "        <td>2015</td>\n",
       "        <td>98641500000000.0</td>\n",
       "    </tr>\n",
       "    <tr>\n",
       "        <td>2016</td>\n",
       "        <td>105058000000000.0</td>\n",
       "    </tr>\n",
       "    <tr>\n",
       "        <td>2017</td>\n",
       "        <td>109309000000000.0</td>\n",
       "    </tr>\n",
       "</table>"
      ],
      "text/plain": [
       "[(2010, 88325300000000.0),\n",
       " (2011, 83084400000000.0),\n",
       " (2012, 97209800000000.0),\n",
       " (2013, 97082900000000.0),\n",
       " (2014, 92492500000000.0),\n",
       " (2015, 98641500000000.0),\n",
       " (2016, 105058000000000.0),\n",
       " (2017, 109309000000000.0)]"
      ]
     },
     "execution_count": 88,
     "metadata": {},
     "output_type": "execute_result"
    }
   ],
   "source": [
    "%%sql\n",
    "SELECT Fiscal_year, (SUM(transaction_facts.amount)-SUM(budget_facts.amount)) Diff\n",
    "FROM transaction_facts\n",
    "JOIN Year\n",
    "  ON transaction_facts.year_key = Year.year_key\n",
    "JOIN budget_facts\n",
    "  ON budget_facts.year_key = Year.year_key\n",
    "JOIN junk_dimension\n",
    "  ON transaction_facts.junk_dimension_key=junk_dimension.junk_dimension_key\n",
    "WHERE junk_dimension.revenue_or_spending = 'Revenue'\n",
    "GROUP BY Fiscal_year\n",
    "ORDER BY Fiscal_year;"
   ]
  },
  {
   "cell_type": "code",
   "execution_count": 89,
   "metadata": {},
   "outputs": [
    {
     "data": {
      "text/plain": [
       "<BarContainer object of 8 artists>"
      ]
     },
     "execution_count": 89,
     "metadata": {},
     "output_type": "execute_result"
    },
    {
     "data": {
      "image/png": "[encoded data removed]",
      "text/plain": [
       "<Figure size 432x288 with 1 Axes>"
      ]
     },
     "metadata": {
      "needs_background": "light"
     },
     "output_type": "display_data"
    }
   ],
   "source": [
    "_.bar()"
   ]
  },
  {
   "cell_type": "markdown",
   "metadata": {},
   "source": [
    "The difference between the budget revenue and actual revenue is still huge and decreases. The government underestimates its ability to generate revenue. Tying this together with our observation that we have a huge budget surplus every year, we have a theory that if the government can predict revenue generation better, it can assign the budget appropriately. However, since government budgets are notoriously complicated, we would need more data and some accounting and public policy knowledge to be able to substantiate our claim. "
   ]
  },
  {
   "cell_type": "markdown",
   "metadata": {},
   "source": [
    "# Attestation"
   ]
  },
  {
   "cell_type": "markdown",
   "metadata": {},
   "source": [
    "We attest that all the work in this notebook was done by our group alone. \n",
    "While Haofu and Nupur handled parts 1 and 2 of data selction and wrangling, Jiaqi and Haoning concentrated on parts 3 and 4. \n",
    "We all collaborated in selection of the dataset and major decisions in each part."
   ]
  }
 ],
 "metadata": {
  "kernelspec": {
   "display_name": "Python 3",
   "language": "python",
   "name": "python3"
  },
  "language_info": {
   "codemirror_mode": {
    "name": "ipython",
    "version": 3
   },
   "file_extension": ".py",
   "mimetype": "text/x-python",
   "name": "python",
   "nbconvert_exporter": "python",
   "pygments_lexer": "ipython3",
   "version": "3.5.3"
  }
 },
 "nbformat": 4,
 "nbformat_minor": 2
}
